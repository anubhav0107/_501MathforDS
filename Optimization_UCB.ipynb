{
 "cells": [
  {
   "cell_type": "code",
   "execution_count": 1,
   "id": "7a74db6e",
   "metadata": {},
   "outputs": [],
   "source": [
    "import numpy as np\n",
    "import math as mt\n"
   ]
  },
  {
   "cell_type": "code",
   "execution_count": 4,
   "id": "e58e8e61",
   "metadata": {},
   "outputs": [],
   "source": [
    "alpha = [104, 128, 135, 139, 150, 153, 162, 168, 195, 198]\n",
    "beta = [9, 8, 7, 7, 6, 6, 5, 2, 1, 1]\n",
    "R_Squared = 68644"
   ]
  },
  {
   "cell_type": "code",
   "execution_count": 40,
   "id": "1c2fa1a0",
   "metadata": {},
   "outputs": [],
   "source": [
    "def calculate_Summation(alpha, beta):\n",
    "    summ = 0\n",
    "    for i in range(len(alpha)):\n",
    "        summ += (alpha[i]*alpha[i])/(beta[i])\n",
    "        \n",
    "    return summ\n",
    "\n",
    "def calculate_Xi_Index(alpha, beta, R_Squared, index, X):\n",
    "    summation = calculate_Summation(alpha, beta)\n",
    "    \n",
    "    for i in range(index):\n",
    "        summation -= (alpha[i]*alpha[i])/(beta[i])\n",
    "        R_Squared -= beta[i]*X[i]*X[i]\n",
    "        \n",
    "    R = mt.sqrt(R_Squared)\n",
    "    \n",
    "    for i in range(index, len(alpha)):\n",
    "        X[i] = (R*alpha[i])/(beta[i]*mt.sqrt(summation))\n",
    "    \n",
    "    return X\n",
    "\n",
    "def get_Upper_Bound(X):\n",
    "    return np.matmul(X, alpha)\n",
    "\n",
    "def get_Lower_Bound(X):\n",
    "    X = [mt.floor(x) for x in X]\n",
    "    return np.matmul(X, alpha)\n",
    "    \n",
    "\n",
    "X = [0]*len(alpha)"
   ]
  },
  {
   "cell_type": "markdown",
   "id": "5bbb706e",
   "metadata": {},
   "source": [
    "### Generate a greedy variable assignment to try to get a good lower bound on the value of the maximum for this problem. The larger this bound, the better.\n",
    "\n",
    "To generate a greedy variable assignment, we use the greedy gradient ascent algorithm. We start at X = [0,0,0,0,0,0,0,0,0,0] and increase the value by a factor of the gradient of F(x), that is the alpha list [104, 128, 135, 139, 150, 153, 162, 168, 195, 198]. The step size for each x<sub>i</sub> will depend on the beta[i] factor. Using this method we increase the value of x<sub>i</sub> and stop one iteration before the constraint value goes over 68644."
   ]
  },
  {
   "cell_type": "code",
   "execution_count": 54,
   "id": "be11f8cc",
   "metadata": {},
   "outputs": [
    {
     "name": "stdout",
     "output_type": "stream",
     "text": [
      "\n",
      "Lower Bound as Calculated from KKT for real values of X -  88015.3173\n"
     ]
    }
   ],
   "source": [
    "def calculate_Constraint(X, beta):\n",
    "    X_Squared = np.square(np.array(X))\n",
    "    return np.matmul(beta, np.array(X_Squared))\n",
    "\n",
    "def calculate_Fx(X, alpha):\n",
    "    return np.dot(alpha, np.array(X))\n",
    "\n",
    "def calculate_Gradient_Step(step_Size, beta, gradient):\n",
    "    gradient_Step = []\n",
    "    for i in range(len(beta)):\n",
    "        gradient_Step.append((step_Size/beta[i])*gradient[i])\n",
    "        \n",
    "    return gradient_Step\n",
    "        \n",
    "\n",
    "def greedy_Ascent(alpha, R_Squared, beta):\n",
    "    X = np.zeros(10)\n",
    "    step_Size = 0.01\n",
    "    result = []\n",
    "    X_LB = [9, 12, 15, 15, 19, 19, 25, 65, 152, 154]\n",
    "    lower_Bound = calculate_Fx(X_LB, alpha)\n",
    "    while(True):\n",
    "        \n",
    "        new_X = np.add(X, calculate_Gradient_Step(step_Size, beta, alpha))\n",
    "        Fx = calculate_Fx(new_X, alpha)\n",
    "        constraint = calculate_Constraint(new_X, beta)\n",
    "        X = new_X\n",
    "        if constraint <= R_Squared:\n",
    "            result = new_X\n",
    "        else:\n",
    "            break\n",
    "        \n",
    "    print('Assignment Result: ', result)\n",
    "    return result\n",
    "\n",
    "X_KKT_Real = [9.012, 12.478, 15.041, 15.4867, 19.4977, 19.888, 25.27, 65.51, 152.08, 154.42]\n",
    "print('\\nLower Bound as Calculated from KKT for real values of X - ', calculate_Fx(X_KKT_Real, alpha))"
   ]
  },
  {
   "cell_type": "code",
   "execution_count": 39,
   "id": "735f7a85",
   "metadata": {},
   "outputs": [
    {
     "name": "stdout",
     "output_type": "stream",
     "text": [
      "Assignment Result:  [  8.89777778  12.32        14.85        15.29        19.25\n",
      "  19.635       24.948       64.68       150.15       152.46      ]\n",
      "\n",
      "Lower Bound after Greedy Assignment -  86898.18988888891\n",
      "\n",
      "Lower Bound as Calculated from KKT -  87441\n"
     ]
    }
   ],
   "source": [
    "res = greedy_Ascent(alpha, R_Squared, beta)\n",
    "print('\\nLower Bound after Greedy Assignment - ', calculate_Fx(res, alpha))\n",
    "X_LB = [9, 12, 15, 15, 19, 19, 25, 65, 152, 154]\n",
    "print('\\nLower Bound as Calculated from KKT - ', calculate_Fx(X_LB, alpha))"
   ]
  },
  {
   "cell_type": "markdown",
   "id": "b3f6c260",
   "metadata": {},
   "source": [
    "#### Here we get the result as [8.89777778, 12.32, 14.85, 15.29, 19.25, 19.635, 24.948, 64.68, 150.15, 152.46] where lower bound is 86898.18988888891. "
   ]
  },
  {
   "cell_type": "markdown",
   "id": "e5cd6cc4",
   "metadata": {},
   "source": [
    "### Using the above solutions, implement a branch and bound algorithm to solve the original problem. What is the maximum value? How many complete variable assignments did you have to visit in order to discover the optimum?"
   ]
  },
  {
   "cell_type": "code",
   "execution_count": 51,
   "id": "2d44c554",
   "metadata": {},
   "outputs": [],
   "source": [
    "def partial_Assignment(index, X, R_Squared, beta):\n",
    "    rhs = R_Squared\n",
    "    for i in range(index):\n",
    "        rhs -= beta[i]*X[i]*X[i]\n",
    "    \n",
    "    X[index] = mt.floor(mt.sqrt(rhs/beta[index]))\n",
    "    \n",
    "    X = calculate_Xi_Index(alpha, beta, R_Squared, index+1, X)\n",
    "    \n",
    "    return X\n",
    "    \n",
    "    \n",
    "def branch_And_Bound(alpha, beta, R_Squared):\n",
    "    index = 0\n",
    "    result = []\n",
    "    initial_X = calculate_Xi_Index(alpha, beta, R_Squared, index, [0]*10)\n",
    "    global_LowerBound = get_Lower_Bound(initial_X)\n",
    "    part_Assign = partial_Assignment(index, [0]*10, R_Squared, beta)\n",
    "\n",
    "    comp_Var_Assignment = 0\n",
    "    while(True):\n",
    "        upper_Bound = get_Upper_Bound(part_Assign)\n",
    "        \n",
    "        if(upper_Bound < global_LowerBound):\n",
    "            part_Assign[index] -= 1\n",
    "            if(part_Assign[0] < 0):\n",
    "                break\n",
    "            part_Assign = calculate_Xi_Index(alpha, beta, R_Squared, index+1, part_Assign)\n",
    "\n",
    "            if(part_Assign[index] == 0):\n",
    "                if(index != 0):\n",
    "                    index -= 1\n",
    "                else:\n",
    "                    index = 0\n",
    "            continue\n",
    "        else:\n",
    "           \n",
    "            if(index < len(alpha)-1):\n",
    "                index += 1\n",
    "\n",
    "                part_Assign = partial_Assignment(index, part_Assign, R_Squared, beta)\n",
    "\n",
    "                \n",
    "            else:\n",
    "                comp_Var_Assignment += 1\n",
    "                if upper_Bound == global_LowerBound:\n",
    "                    temp = part_Assign.copy()\n",
    "                    result.append(temp)\n",
    "\n",
    "                else:\n",
    "                    global_LowerBound = upper_Bound\n",
    "                    temp = part_Assign.copy()\n",
    "                    result = [temp]\n",
    "                if temp[0] == 0:\n",
    "                    break\n",
    "            \n",
    "                part_Assign[index] -= 1\n",
    "    \n",
    "    return result, comp_Var_Assignment\n",
    "    "
   ]
  },
  {
   "cell_type": "code",
   "execution_count": 52,
   "id": "3a7bad3f",
   "metadata": {},
   "outputs": [
    {
     "name": "stdout",
     "output_type": "stream",
     "text": [
      "Assignment using Branch and Bound Algorithm -  [[9, 13, 15, 16, 20, 20, 25, 65, 152, 154]]\n",
      "\n",
      " Number of Complete Variable Assignments -  424\n"
     ]
    }
   ],
   "source": [
    "x_Branch_And_Bound, complet_Var_Assignment = branch_And_Bound(alpha, beta, R_Squared)\n",
    "print('Assignment using Branch and Bound Algorithm - ', x_Branch_And_Bound)\n",
    "print('\\n Number of Complete Variable Assignments - ', complet_Var_Assignment)\n"
   ]
  },
  {
   "cell_type": "code",
   "execution_count": 48,
   "id": "cb182d1e",
   "metadata": {},
   "outputs": [
    {
     "name": "stdout",
     "output_type": "stream",
     "text": [
      "Maximum Value -  88011\n"
     ]
    }
   ],
   "source": [
    "for i in range(len(x_Branch_And_Bound)):\n",
    "    max_Val = np.matmul(alpha, x_Branch_And_Bound[i])\n",
    "    print('Maximum Value - ', max_Val)"
   ]
  }
 ],
 "metadata": {
  "kernelspec": {
   "display_name": "Python 3 (ipykernel)",
   "language": "python",
   "name": "python3"
  },
  "language_info": {
   "codemirror_mode": {
    "name": "ipython",
    "version": 3
   },
   "file_extension": ".py",
   "mimetype": "text/x-python",
   "name": "python",
   "nbconvert_exporter": "python",
   "pygments_lexer": "ipython3",
   "version": "3.9.12"
  }
 },
 "nbformat": 4,
 "nbformat_minor": 5
}
