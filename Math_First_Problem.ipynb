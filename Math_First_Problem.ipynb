{
 "cells": [
  {
   "attachments": {},
   "cell_type": "markdown",
   "id": "00f9c2d2",
   "metadata": {},
   "source": [
    "Given a D × D square matrix B, we frequently want to factor or express B in terms of other matrices, for instance maybe taking the square root of B. In this problem, for a given matrix B, we want to find a (potentially non-square, non-symmetric) matrix A such that B = AT A.\n",
    "– We can generate such a B by randomly generating a k × D matrix A ̃, with each element selected as a standard normal random variable (mean 0, variance 1), and computing B = A ̃T A ̃. From B, we would like to (potentially) recover A ̃.\n",
    "\n",
    "– Consider the following approach: for any matrix A, define L as\n",
    "L(A)=∑∑(B−A^A )^2(i,j)\n",
    "i=1 j=1\n",
    "the sum of the squares of all the differences between the elements of B and AT A. We want to find A to\n",
    "make L as small as possible.\n",
    "– For a given matrix A, let G(A) be the matrix of derivatives so that Gi,j = ∂/∂A(i,j)\n",
    "G = 4A (A^T A − B).\n",
    "– We can try to find A to minimize L by implementing gradient descent: for any given A, we can improve\n",
    "it by taking\n",
    "Anew = A − αG(A)\n",
    "where α is a small positive constant. For sufficiently small α, you’ll get that L(Anew) < L(A), and this process can be iterated to minimize L. If we can get L(A) to converge to 0, then we have discovered a solution to B = AT A.\n",
    "– Generate a random B as above, taking D = 10,k = 10, and taking A as a random initial matrix, implement this process to show that L decreases over time to 0 - graph your results.\n",
    "– For a given B (D = 10, k = 10), do you recover the same A every time, for different initial starting points? Why or why not.\n",
    "– Generating B randomly as above, with D = 5, k = 10, suppose that the ‘true’ value of k is forgotten. Try to find A for different values of k. What do you notice about the loss for different k? Can you recover the ‘true’ dimension?\n",
    "– Think about the relationship between the columns of A and the matrix AT A, and use this to explain the results of the previous two bullet points.\n",
    "– What happens if you try to take B as the identity matrix? What does the solution A represent (for any k that works)?\n",
    "– What happens if you try to take B as the diagonal matrix of all 1s, except for the bottom right corner which is −1? What does the solution A represent (for any k that works)?\n",
    "\n",
    "### 1. Generate a random B as above, taking D = 10,k = 10, and taking A as a random initial matrix, implement this process to show that L decreases over time to 0 - graph your results."
   ]
  },
  {
   "cell_type": "code",
   "execution_count": 160,
   "id": "0a4ad71f",
   "metadata": {},
   "outputs": [],
   "source": [
    "from asyncio import as_completed\n",
    "import numpy as np\n",
    "import matplotlib.pyplot as plt\n"
   ]
  },
  {
   "cell_type": "markdown",
   "id": "c1bfcd20",
   "metadata": {},
   "source": [
    "# Generating Random Matrices"
   ]
  },
  {
   "cell_type": "markdown",
   "id": "24f86f96",
   "metadata": {},
   "source": [
    "1. Here we generate random matrix A1 that will be used to find B using the formula B = A^T.A\n",
    "2. Then we generate A as a random initial matrix.\n"
   ]
  },
  {
   "cell_type": "code",
   "execution_count": 180,
   "id": "5d967ed8",
   "metadata": {
    "scrolled": true
   },
   "outputs": [
    {
     "name": "stdout",
     "output_type": "stream",
     "text": [
      "\n",
      "\n",
      "B\n",
      "\n",
      " [[13.6923519  -9.07793649 -4.50512925  0.77446994  3.27618304  3.46194101\n",
      "  -5.98647541 -2.65367677 -0.86588146 -2.12495758]\n",
      " [-9.07793649  9.57305652  4.52773835 -1.74642877 -0.7655098  -1.83332652\n",
      "   1.89199848  1.92929697  1.04509012 -0.96520331]\n",
      " [-4.50512925  4.52773835  4.35151228  0.1302712  -0.87640285 -2.10112082\n",
      "   1.66951563  0.80793311 -1.06684382 -0.65440445]\n",
      " [ 0.77446994 -1.74642877  0.1302712   7.08537631  1.48539442 -1.9231863\n",
      "   0.39812249 -2.23552211  1.87134994  1.13626716]\n",
      " [ 3.27618304 -0.7655098  -0.87640285  1.48539442  8.46635241  3.75566616\n",
      "   0.48636607  1.60165627  2.72257958 -2.37523149]\n",
      " [ 3.46194101 -1.83332652 -2.10112082 -1.9231863   3.75566616 11.5250296\n",
      "   2.04716407 -1.28380832  2.38620472 -4.28829159]\n",
      " [-5.98647541  1.89199848  1.66951563  0.39812249  0.48636607  2.04716407\n",
      "   9.72662733  1.18803646 -1.38770006  1.96006254]\n",
      " [-2.65367677  1.92929697  0.80793311 -2.23552211  1.60165627 -1.28380832\n",
      "   1.18803646 13.34837138 -0.69329361  0.87444493]\n",
      " [-0.86588146  1.04509012 -1.06684382  1.87134994  2.72257958  2.38620472\n",
      "  -1.38770006 -0.69329361  6.5231012  -1.60426914]\n",
      " [-2.12495758 -0.96520331 -0.65440445  1.13626716 -2.37523149 -4.28829159\n",
      "   1.96006254  0.87444493 -1.60426914  4.69443769]]\n",
      "\n",
      "\n",
      "A\n",
      "\n",
      " [[ 1.45909369e+00 -5.73922638e-01  8.45954586e-01  8.71094718e-01\n",
      "   8.18375697e-01 -1.75416798e+00  1.84933847e-01 -2.00347699e-01\n",
      "   1.51005488e+00 -5.26062433e-01]\n",
      " [ 5.41284523e-01  1.99251122e+00  1.65659555e-01  5.14213206e-01\n",
      "   6.12942922e-01  1.39926899e+00  1.29887523e+00  5.80637694e-01\n",
      "   8.14444856e-01 -8.08003260e-01]\n",
      " [-1.09977407e+00  1.00176676e+00 -9.55011965e-01 -2.39535552e-01\n",
      "   5.67949984e-01 -1.39293547e-01 -1.29934228e+00 -6.09550618e-02\n",
      "   1.70758369e-01 -8.20250191e-01]\n",
      " [-5.80521393e-01 -1.45790520e+00 -1.06201635e+00 -2.86519507e+00\n",
      "  -6.65730990e-01  2.39899103e-01 -2.61596236e-01  9.34298797e-01\n",
      "   6.67738741e-01 -1.78671892e+00]\n",
      " [ 1.60160922e+00 -9.19111682e-01  5.37696013e-01  5.32708210e-01\n",
      "  -3.06843910e-01  3.85504735e-01 -7.82101453e-01  4.45743944e-01\n",
      "   5.19206939e-01  2.55727090e-01]\n",
      " [ 7.39654736e-01 -8.10280479e-01  1.31379631e+00 -2.65736306e-01\n",
      "   1.59242115e-01 -3.27932149e-01  2.53511186e-01  1.11331914e+00\n",
      "   6.45859190e-01 -1.26187395e-01]\n",
      " [-2.12012483e-01  2.47259995e+00  1.98512115e-03 -2.67386528e+00\n",
      "  -1.00745418e+00  1.39337079e+00 -9.09198019e-01  6.97164835e-01\n",
      "   3.88716749e-01 -8.64998355e-01]\n",
      " [ 1.46204955e-01 -1.40421081e-01 -1.36829184e-01  2.54731257e+00\n",
      "   1.01714901e+00 -3.36661891e-01 -1.97250511e+00  1.66554741e+00\n",
      "   1.98393513e+00  5.75323417e-01]\n",
      " [ 8.89669489e-01 -9.15369975e-01  9.24003292e-01 -1.45712614e+00\n",
      "  -8.39236111e-02 -3.72948239e-01 -1.74399293e+00 -9.47041218e-01\n",
      "   1.09881183e+00 -1.43328743e+00]\n",
      " [ 1.59497752e+00 -1.68904992e+00 -3.52143178e-01  5.05016753e-01\n",
      "  -1.27414402e+00  6.13943235e-01 -2.79897190e-01 -1.92761304e-01\n",
      "  -4.54841343e-01  3.23975210e-01]]\n"
     ]
    }
   ],
   "source": [
    "#Generating Random Matrices B and A. B is calculated using A1^T A1.\n",
    "\n",
    "A1 = np.random.normal(0,1, size = (10,10))\n",
    "\n",
    "B = np.matmul(np.transpose(A1), A1)\n",
    "\n",
    "print('\\n\\nB\\n\\n',B)\n",
    "\n",
    "A = np.random.normal(0,1, size = (10,10))\n",
    "\n",
    "print('\\n\\nA\\n\\n', A)"
   ]
  },
  {
   "cell_type": "markdown",
   "id": "27b16caa",
   "metadata": {},
   "source": [
    "# Gradient Descent Algorithm"
   ]
  },
  {
   "cell_type": "markdown",
   "id": "92beaedc",
   "metadata": {},
   "source": [
    "1. Implementing the Gradient Descent Algorithm using Alpha as a paramenter step-size and running it for 3000 iterations.\n",
    "2. We append the Loss values in an array and return this array to plot the results."
   ]
  },
  {
   "cell_type": "code",
   "execution_count": 183,
   "id": "a4287453",
   "metadata": {},
   "outputs": [],
   "source": [
    "def Gradient_Descent(A, B, alpha):\n",
    "    i = 0\n",
    "    LArray = []\n",
    "    while i < 3000:\n",
    "        A_Squared = np.matmul(np.transpose(A), A)           #Computing A^T.A\n",
    "        G = np.dot(4,np.matmul(A,np.subtract(A_Squared, B)))     #Computing G = 4A(A^T.A - B)\n",
    "        \n",
    "        LDiff = np.subtract(B, A_Squared)\n",
    "        LSquared = np.matmul(LDiff, LDiff)\n",
    "        L = np.sum(LSquared)                   #Computing Loss Function\n",
    "        LArray.append(L)\n",
    "    \n",
    "        A = np.subtract(A, np.dot(alpha, G))\n",
    "\n",
    "        i=i+1\n",
    "    \n",
    "    print('Gradient Descent Successful')\n",
    "    return LArray"
   ]
  },
  {
   "cell_type": "markdown",
   "id": "e6008079",
   "metadata": {},
   "source": [
    "## Printing The Loss Array"
   ]
  },
  {
   "cell_type": "markdown",
   "id": "69feac9f",
   "metadata": {},
   "source": [
    "Here we call the gradient descent algorithm with step size as 0.003 and display the final 100 values from the Loss Array."
   ]
  },
  {
   "cell_type": "code",
   "execution_count": 184,
   "id": "7aa18a4e",
   "metadata": {},
   "outputs": [
    {
     "name": "stdout",
     "output_type": "stream",
     "text": [
      "Gradient Descent Successful\n",
      "\n",
      "\n",
      "Loss Array - \n",
      "\n",
      "\n",
      " [4.938762304749297e-28, 4.127221648503181e-28, 4.442519491558704e-28, 4.469390066142795e-28, 4.789125251790186e-28, 4.613110662312748e-28, 4.507600516239438e-28, 4.487385955543149e-28, 4.694461943163665e-28, 5.0336721324087e-28, 4.779264490474924e-28, 5.142387025909471e-28, 5.6107731883844465e-28, 5.383482640067642e-28, 4.117114368155037e-28, 4.442519491558704e-28, 3.93345768865827e-28, 3.894569311221203e-28, 4.8609239201169425e-28, 4.432658730243442e-28, 4.772854995620003e-28, 4.442272972525823e-28, 4.398885622738667e-28, 4.447696391249217e-28, 4.960209460609993e-28, 4.821912283163435e-28, 4.778771452409161e-28, 4.55838343701304e-28, 4.490837222003491e-28, 4.377438466877971e-28, 4.050554229277014e-28, 4.26403971175245e-28, 3.980049785872886e-28, 4.1787441263754285e-28, 4.515489125291648e-28, 4.927175910203863e-28, 4.436356515736665e-28, 4.820679687999027e-28, 4.959469903511349e-28, 4.933831924091666e-28, 4.822651840262079e-28, 4.689778081538915e-28, 4.8623414045560115e-28, 4.721332517747756e-28, 4.382122328502721e-28, 4.390503975620694e-28, 4.730700240997255e-28, 4.604482496161893e-28, 4.568983755426948e-28, 4.422058411829534e-28, 4.551049495784814e-28, 4.779757528540687e-28, 4.427481830552929e-28, 4.997187315542228e-28, 4.318705307293938e-28, 4.331031258938016e-28, 4.636098562128954e-28, 4.629812326790474e-28, 4.64176849988523e-28, 4.720284811858009e-28, 4.730268832689712e-28, 4.274578400408137e-28, 4.916390702515295e-28, 4.411273204140966e-28, 4.78967991961417e-28, 4.712396202805799e-28, 4.138808043048615e-28, 4.885514193646879e-28, 4.40874638405393e-28, 4.41195113148139e-28, 4.736616697786413e-28, 4.680903396355179e-28, 4.630120475581576e-28, 4.7839483520996735e-28, 4.103062783280788e-28, 3.900670657285022e-28, 4.247769455582267e-28, 4.108732721037064e-28, 4.3446514355047225e-28, 3.8952472385616274e-28, 4.890999242128494e-28, 5.012409865822665e-28, 5.119522385609705e-28, 4.842558252167266e-28, 5.081989862853487e-28, 4.720592960649111e-28, 4.255658064634477e-28, 4.294608071829765e-28, 3.7887510163567908e-28, 4.224103628425637e-28, 4.6890385244402705e-28, 4.912877806296733e-28, 4.317287822854869e-28, 5.074101253801277e-28, 4.770389805291187e-28, 5.014197128811056e-28, 4.7935625943820545e-28, 4.755352144285412e-28, 4.738835369082347e-28, 4.750914801693544e-28]\n"
     ]
    }
   ],
   "source": [
    "LossArray = Gradient_Descent(A, B, 0.003)\n",
    "print('\\n\\nLoss Array - \\n\\n\\n', LossArray[2900:3000])\n"
   ]
  },
  {
   "cell_type": "markdown",
   "id": "016fbcac",
   "metadata": {},
   "source": [
    "# Plotting The Results"
   ]
  },
  {
   "cell_type": "markdown",
   "id": "df136315",
   "metadata": {},
   "source": [
    "Here we plot the Loss values with respect to time or the number of iteration.\n",
    "\n",
    "We can see clearly from the graphs that Loss value decreases with each iteration and we achieve a Loss equivalent to 10^-28.\n",
    "\n",
    "We plot the graph in the log scale to display the decrease in loss values as time goes on. It shows that the loss decreases continuously and approaches 0. "
   ]
  },
  {
   "cell_type": "code",
   "execution_count": 185,
   "id": "5c3d6080",
   "metadata": {},
   "outputs": [
    {
     "data": {
      "image/png": "[encoded data removed]",
      "text/plain": [
       "<Figure size 432x288 with 1 Axes>"
      ]
     },
     "metadata": {
      "needs_background": "light"
     },
     "output_type": "display_data"
    }
   ],
   "source": [
    "def plotResults(LossArray):\n",
    "    plt.plot(LossArray[0:3000])\n",
    "    plt.yscale('log')\n",
    "    plt.xscale('log')\n",
    "    plt.ylabel('Loss Value ->')\n",
    "    plt.xlabel('Time(Iterations) ->')\n",
    "    plt.show()\n",
    "\n",
    "\n",
    "plotResults(LossArray)\n",
    "\n"
   ]
  },
  {
   "cell_type": "markdown",
   "id": "7da29f39",
   "metadata": {},
   "source": [
    "### 2. For a given B (D = 10, k = 10), do you recover the same A every time, for different initial starting points? Why or why not."
   ]
  },
  {
   "cell_type": "code",
   "execution_count": 2,
   "id": "f68e95ea",
   "metadata": {},
   "outputs": [],
   "source": [
    "from asyncio import as_completed\n",
    "import numpy as np\n",
    "import matplotlib.pyplot as plt"
   ]
  },
  {
   "cell_type": "markdown",
   "id": "d52f25a9",
   "metadata": {},
   "source": [
    "# Generating Random Matrices"
   ]
  },
  {
   "cell_type": "markdown",
   "id": "7fc36fa1",
   "metadata": {},
   "source": [
    "1. Here we generate random matrix A1 that will be used to find B using the formula B = A^T.A\n",
    "2. Then we generate A as a random initial matrix."
   ]
  },
  {
   "cell_type": "code",
   "execution_count": 33,
   "id": "25cd7852",
   "metadata": {},
   "outputs": [
    {
     "name": "stdout",
     "output_type": "stream",
     "text": [
      "\n",
      "\n",
      "B\n",
      "\n",
      " [[ 7.71499194 -2.29471048 -2.64940184 -4.80035902 -0.81929932  3.01011002\n",
      "  -0.41631896 -3.23857869  0.47623295 -1.1147709 ]\n",
      " [-2.29471048  5.97493559 -1.98371014  1.45640625  1.16103696 -1.21793271\n",
      "  -1.84156009  0.47316167  3.52201173 -5.14571638]\n",
      " [-2.64940184 -1.98371014 10.21530482  3.82260114 -1.26164269  4.08984209\n",
      "   0.89963268 -2.04914904  1.10757967  7.33975698]\n",
      " [-4.80035902  1.45640625  3.82260114  8.98569423 -0.84293565 -2.05372398\n",
      "   1.93493924 -0.44876825  2.63788371  2.04556762]\n",
      " [-0.81929932  1.16103696 -1.26164269 -0.84293565  2.2170791  -0.75748227\n",
      "  -1.55279305  1.99273069  1.14167687 -2.91635168]\n",
      " [ 3.01011002 -1.21793271  4.08984209 -2.05372398 -0.75748227 14.06231371\n",
      "  -0.46307079 -3.97223754  4.43963179  2.0143932 ]\n",
      " [-0.41631896 -1.84156009  0.89963268  1.93493924 -1.55279305 -0.46307079\n",
      "   3.43670753 -1.65557436 -2.5634832   1.45479623]\n",
      " [-3.23857869  0.47316167 -2.04914904 -0.44876825  1.99273069 -3.97223754\n",
      "  -1.65557436 10.06878074 -1.61356455  1.19260856]\n",
      " [ 0.47623295  3.52201173  1.10757967  2.63788371  1.14167687  4.43963179\n",
      "  -2.5634832  -1.61356455  9.10392666 -5.03066539]\n",
      " [-1.1147709  -5.14571638  7.33975698  2.04556762 -2.91635168  2.0143932\n",
      "   1.45479623  1.19260856 -5.03066539 17.92278793]]\n",
      "\n",
      "\n",
      "A\n",
      "\n",
      " [[ 0.01229651  1.68801211  1.22743938  1.04451993  1.9504573  -0.37395285\n",
      "  -1.3270906  -0.17389309  0.50740621  1.06690266]\n",
      " [-1.0472972  -0.87686163 -1.46446307  1.68516862 -2.04033031  2.07184804\n",
      "   0.84538787 -0.04316335 -0.97897817 -0.37198591]\n",
      " [-0.04013828 -0.16850651  0.75859183  2.2000709  -0.20344583  0.1601864\n",
      "   0.1274021   1.49295812  0.3543383  -0.39293842]\n",
      " [-0.66582775 -0.55858405 -0.62843097 -0.52093538  0.16997747  1.70794338\n",
      "  -0.34673362  0.41991298  0.86438944  0.34618364]\n",
      " [-1.54120717  0.23671752  0.95303161 -2.59616522  1.02146513 -0.28660956\n",
      "  -0.31392219 -0.61219329  0.0293554  -0.01406549]\n",
      " [ 0.15127054 -1.53940232 -0.61157976 -0.47698951  1.53441368 -0.67407306\n",
      "   0.71865976 -0.28810639  0.54259905 -0.40693132]\n",
      " [ 0.27754329  0.40648282 -0.14482407 -0.22918027  0.70042835 -2.13959075\n",
      "  -1.93036123  0.01398244  1.49052125 -0.17916709]\n",
      " [ 0.12591014  0.44202536  1.90834743  1.62820862 -0.41908487 -0.30436233\n",
      "   1.9579001  -1.27009314  0.20469198  0.87624582]\n",
      " [ 0.10883063 -0.0497764  -0.07589046  0.11382181 -0.67495614  0.50200775\n",
      "  -1.36640149  0.96910502  0.48033431 -1.62794561]\n",
      " [ 1.24082152  1.5966922   0.34768368 -1.08318966 -0.53372078  1.06958934\n",
      "  -0.49472038 -1.00122734 -1.21839498  0.70870151]]\n"
     ]
    }
   ],
   "source": [
    "A1 = np.random.normal(0,1, size = (10,10))\n",
    "\n",
    "B = np.matmul(np.transpose(A1), A1)\n",
    "\n",
    "print('\\n\\nB\\n\\n',B)\n",
    "\n",
    "A = np.random.normal(0,1, size = (10,10))\n",
    "\n",
    "print('\\n\\nA\\n\\n', A)"
   ]
  },
  {
   "cell_type": "markdown",
   "id": "8290b995",
   "metadata": {},
   "source": [
    "# Gradient Descent Algorithm\n",
    "\n",
    "1. Implementing the Gradient Descent Algorithm using Alpha as 0.009 and running it for 3000 iterations.\n",
    "2. We return the New A generated after the Gradient Descent completion."
   ]
  },
  {
   "cell_type": "code",
   "execution_count": 34,
   "id": "991f7862",
   "metadata": {},
   "outputs": [],
   "source": [
    "def plotResults(LossArray):\n",
    "    plt.plot(LossArray[0:3000])\n",
    "    plt.yscale('log')\n",
    "    plt.xscale('log')\n",
    "    plt.ylabel('Loss Value ->')\n",
    "    plt.xlabel('Time(Iterations) ->')\n",
    "    plt.show()\n",
    "\n",
    "def Gradient_Descent(A, B, alpha):\n",
    "    i = 0\n",
    "    LArray = []\n",
    "\n",
    "    while i < 3000:\n",
    "        A_Squared = np.matmul(np.transpose(A), A)\n",
    "        G = np.dot(4,np.matmul(A,np.subtract(A_Squared, B)))\n",
    "        \n",
    "        LDiff = np.subtract(B, A_Squared)\n",
    "        LSquared = np.matmul(LDiff, LDiff)\n",
    "        L = np.sum(LSquared)\n",
    "        LArray.append(L)\n",
    "    \n",
    "        A = np.subtract(A, np.dot(alpha, G))\n",
    "\n",
    "        i=i+1\n",
    "    \n",
    "    print('Gradient Descent Successful')\n",
    "    plotResults(LArray)\n",
    "    return A\n"
   ]
  },
  {
   "cell_type": "markdown",
   "id": "263b2e10",
   "metadata": {},
   "source": [
    "# Calling Gradient Descent\n",
    "\n",
    "We call Gradient Descent here and save the new A in A_New"
   ]
  },
  {
   "cell_type": "code",
   "execution_count": 40,
   "id": "f8308622",
   "metadata": {},
   "outputs": [
    {
     "name": "stdout",
     "output_type": "stream",
     "text": [
      "Gradient Descent Successful\n"
     ]
    },
    {
     "data": {
      "image/png": "[encoded data removed]",
      "text/plain": [
       "<Figure size 432x288 with 1 Axes>"
      ]
     },
     "metadata": {
      "needs_background": "light"
     },
     "output_type": "display_data"
    },
    {
     "name": "stdout",
     "output_type": "stream",
     "text": [
      "\n",
      "\n",
      "New A - \n",
      "\n",
      "\n",
      " [[-1.06425928e+00  1.08137671e+00  8.83152926e-01  1.07452024e+00\n",
      "   6.78403265e-01  3.83635528e-01 -5.57505851e-01  8.45369134e-02\n",
      "   8.45109046e-01  8.31412423e-01]\n",
      " [-7.76874436e-01  2.26355351e-01 -4.42613829e-01  9.17953527e-01\n",
      "  -5.19181169e-01  9.77009735e-01  7.78257212e-01 -8.56705962e-01\n",
      "  -3.27086257e-01  3.67551972e-02]\n",
      " [-9.73817920e-01 -6.89941547e-02  9.31919977e-01  1.24918412e+00\n",
      "   8.91603466e-02 -2.36612227e-01 -1.40931893e-01  1.64337241e+00\n",
      "   3.35377507e-01  2.96225986e-01]\n",
      " [ 5.04647767e-01 -4.32013973e-01  4.54947935e-01 -3.57454377e-01\n",
      "   1.37487056e-01  2.50889050e+00 -7.61807419e-01  1.17871631e-01\n",
      "   1.71555904e+00  5.25896224e-01]\n",
      " [-1.16060212e+00  8.73478980e-03  8.85025996e-01 -9.08131457e-01\n",
      "   3.93606345e-01  2.08773214e-01 -4.71975566e-01  1.94961166e-03\n",
      "  -5.97601957e-01 -3.47595601e-01]\n",
      " [ 6.90360278e-01 -9.72787453e-01 -6.12902120e-01 -1.42582724e-01\n",
      "   6.16837648e-01 -2.29804654e-01  1.40203438e-01 -6.61620743e-01\n",
      "  -4.03665287e-02 -1.29841551e+00]\n",
      " [-1.80485487e-01  1.16915557e+00 -1.08870940e+00  5.19248895e-01\n",
      "   1.21372535e-01 -1.62058709e+00 -9.38629949e-01 -3.00799755e-01\n",
      "   1.10302865e+00 -1.42956584e+00]\n",
      " [-2.75645928e-01 -6.06104738e-01  2.36850770e+00  1.68077173e+00\n",
      "  -7.65741407e-01  3.90882834e-01  7.68429796e-01 -1.92871490e+00\n",
      "   5.82604505e-01  1.20777458e+00]\n",
      " [ 1.88907645e-01  1.35616845e+00 -2.95340930e-01  4.23404215e-02\n",
      "   3.78138929e-01  1.07179683e+00 -1.04473747e-01 -7.38056905e-01\n",
      "   1.81951556e+00 -3.34444256e+00]\n",
      " [ 1.67570378e+00 -2.07496283e-01  3.50318568e-01 -1.16567101e+00\n",
      "  -4.25384388e-01  1.60805343e+00 -4.41763385e-01 -1.34915791e+00\n",
      "  -4.02046583e-02  6.09503197e-01]]\n"
     ]
    }
   ],
   "source": [
    "A_New = Gradient_Descent(A, B, 0.005)\n",
    "print('\\n\\nNew A - \\n\\n\\n', A_New)\n"
   ]
  },
  {
   "cell_type": "markdown",
   "id": "b6c4600d",
   "metadata": {},
   "source": [
    "# Checking Accuracy of New A\n",
    "\n",
    "Here we check how accurately we get the B matrix from the New A and compare the differences between the New Calculated B and the Original B.\n"
   ]
  },
  {
   "cell_type": "code",
   "execution_count": 41,
   "id": "03f7ecf7",
   "metadata": {},
   "outputs": [
    {
     "name": "stdout",
     "output_type": "stream",
     "text": [
      "New Calculated B - \n",
      "\n",
      " [[ 7.71499194 -2.29471048 -2.64940184 -4.80035902 -0.81929932  3.01011002\n",
      "  -0.41631896 -3.23857869  0.47623295 -1.1147709 ]\n",
      " [-2.29471048  5.97493559 -1.98371014  1.45640625  1.16103696 -1.21793271\n",
      "  -1.84156009  0.47316167  3.52201173 -5.14571638]\n",
      " [-2.64940184 -1.98371014 10.21530482  3.82260114 -1.26164269  4.08984209\n",
      "   0.89963268 -2.04914904  1.10757967  7.33975698]\n",
      " [-4.80035902  1.45640625  3.82260114  8.98569423 -0.84293565 -2.05372398\n",
      "   1.93493924 -0.44876825  2.63788371  2.04556762]\n",
      " [-0.81929932  1.16103696 -1.26164269 -0.84293565  2.2170791  -0.75748227\n",
      "  -1.55279305  1.99273069  1.14167687 -2.91635168]\n",
      " [ 3.01011002 -1.21793271  4.08984209 -2.05372398 -0.75748227 14.06231371\n",
      "  -0.46307079 -3.97223754  4.43963179  2.0143932 ]\n",
      " [-0.41631896 -1.84156009  0.89963268  1.93493924 -1.55279305 -0.46307079\n",
      "   3.43670753 -1.65557436 -2.5634832   1.45479623]\n",
      " [-3.23857869  0.47316167 -2.04914904 -0.44876825  1.99273069 -3.97223754\n",
      "  -1.65557436 10.06878074 -1.61356455  1.19260856]\n",
      " [ 0.47623295  3.52201173  1.10757967  2.63788371  1.14167687  4.43963179\n",
      "  -2.5634832  -1.61356455  9.10392666 -5.03066539]\n",
      " [-1.1147709  -5.14571638  7.33975698  2.04556762 -2.91635168  2.0143932\n",
      "   1.45479623  1.19260856 -5.03066539 17.92278793]]\n",
      "\n",
      "\n",
      "Difference between New B and Original B - \n",
      "\n",
      " [[-1.68753900e-14  2.22044605e-15 -3.55271368e-15 -4.08562073e-14\n",
      "   1.19904087e-14 -1.64313008e-14  5.37347944e-14 -3.55271368e-15\n",
      "   4.44644321e-14  1.84297022e-14]\n",
      " [ 2.22044605e-15 -8.88178420e-16  2.22044605e-16  6.66133815e-15\n",
      "  -1.99840144e-15  2.44249065e-15 -9.10382880e-15  4.44089210e-16\n",
      "  -7.10542736e-15 -3.55271368e-15]\n",
      " [-3.55271368e-15  2.22044605e-16  0.00000000e+00 -1.02140518e-14\n",
      "   3.33066907e-15 -3.55271368e-15  1.49880108e-14 -8.88178420e-16\n",
      "   1.19904087e-14  5.32907052e-15]\n",
      " [-4.08562073e-14  6.66133815e-15 -1.02140518e-14 -9.41469125e-14\n",
      "   2.93098879e-14 -3.68594044e-14  1.24789068e-13 -7.77156117e-15\n",
      "   1.02140518e-13  4.30766534e-14]\n",
      " [ 1.19904087e-14 -1.99840144e-15  3.33066907e-15  2.93098879e-14\n",
      "  -8.88178420e-15  1.14352972e-14 -3.95239397e-14  1.99840144e-15\n",
      "  -3.19744231e-14 -1.28785871e-14]\n",
      " [-1.64313008e-14  2.44249065e-15 -3.55271368e-15 -3.68594044e-14\n",
      "   1.14352972e-14 -1.59872116e-14  4.90718577e-14 -3.55271368e-15\n",
      "   4.08562073e-14  1.68753900e-14]\n",
      " [ 5.37347944e-14 -9.10382880e-15  1.49880108e-14  1.24789068e-13\n",
      "  -3.95239397e-14  4.90718577e-14 -1.66977543e-13  1.17683641e-14\n",
      "  -1.36335387e-13 -5.75095527e-14]\n",
      " [-3.55271368e-15  4.44089210e-16 -8.88178420e-16 -7.77156117e-15\n",
      "   1.99840144e-15 -3.55271368e-15  1.17683641e-14  0.00000000e+00\n",
      "   9.54791801e-15  3.55271368e-15]\n",
      " [ 4.44644321e-14 -7.10542736e-15  1.19904087e-14  1.02140518e-13\n",
      "  -3.19744231e-14  4.08562073e-14 -1.36335387e-13  9.54791801e-15\n",
      "  -1.11910481e-13 -4.70734562e-14]\n",
      " [ 1.84297022e-14 -3.55271368e-15  5.32907052e-15  4.30766534e-14\n",
      "  -1.28785871e-14  1.68753900e-14 -5.75095527e-14  3.55271368e-15\n",
      "  -4.70734562e-14 -2.13162821e-14]]\n"
     ]
    }
   ],
   "source": [
    "B_New = np.matmul(np.transpose(A_New), A_New)\n",
    "print('New Calculated B - \\n\\n', B_New)\n",
    "\n",
    "print('\\n\\nDifference between New B and Original B - \\n\\n', np.subtract(B_New, B))"
   ]
  },
  {
   "cell_type": "markdown",
   "id": "60c90514",
   "metadata": {},
   "source": [
    "### As seen above the difference is almost neglegible. Thus we can say that A_New matrix gives the same B as expected."
   ]
  },
  {
   "cell_type": "markdown",
   "id": "2102176d",
   "metadata": {},
   "source": [
    "# Generating Random A (Different Initial Starting Points)"
   ]
  },
  {
   "cell_type": "code",
   "execution_count": 42,
   "id": "c073f71b",
   "metadata": {},
   "outputs": [],
   "source": [
    "A2 = np.random.normal(0,1, size = (10,10))\n",
    "A3 = np.random.normal(0,1, size = (10,10))\n",
    "A4 = np.random.normal(0,1, size = (10,10))\n"
   ]
  },
  {
   "cell_type": "markdown",
   "id": "ce4b2edb",
   "metadata": {},
   "source": [
    "## Running Gradient Descent on A2, A3, A4"
   ]
  },
  {
   "cell_type": "code",
   "execution_count": 43,
   "id": "384aa53b",
   "metadata": {},
   "outputs": [
    {
     "name": "stdout",
     "output_type": "stream",
     "text": [
      "Gradient Descent Successful\n"
     ]
    },
    {
     "data": {
      "image/png": "[encoded data removed]",
      "text/plain": [
       "<Figure size 432x288 with 1 Axes>"
      ]
     },
     "metadata": {
      "needs_background": "light"
     },
     "output_type": "display_data"
    },
    {
     "name": "stdout",
     "output_type": "stream",
     "text": [
      "Gradient Descent Successful\n"
     ]
    },
    {
     "data": {
      "image/png": "[encoded data removed]",
      "text/plain": [
       "<Figure size 432x288 with 1 Axes>"
      ]
     },
     "metadata": {
      "needs_background": "light"
     },
     "output_type": "display_data"
    },
    {
     "name": "stdout",
     "output_type": "stream",
     "text": [
      "Gradient Descent Successful\n"
     ]
    },
    {
     "data": {
      "image/png": "[encoded data removed]",
      "text/plain": [
       "<Figure size 432x288 with 1 Axes>"
      ]
     },
     "metadata": {
      "needs_background": "light"
     },
     "output_type": "display_data"
    }
   ],
   "source": [
    "A2_New = Gradient_Descent(A2, B, 0.005)\n",
    "A3_New = Gradient_Descent(A3, B, 0.005)\n",
    "A4_New = Gradient_Descent(A4, B, 0.005)"
   ]
  },
  {
   "cell_type": "code",
   "execution_count": 44,
   "id": "17cf7aa7",
   "metadata": {},
   "outputs": [
    {
     "name": "stdout",
     "output_type": "stream",
     "text": [
      "A2_New - \n",
      "\n",
      " [[-1.25041369e+00 -5.28862754e-04 -7.64169642e-01  3.17064417e-01\n",
      "   9.86848208e-01 -4.40422404e-02 -2.91926506e-01  1.37179511e+00\n",
      "   9.29595191e-02 -5.87207508e-01]\n",
      " [-1.86516568e+00  9.84667602e-01  9.97529424e-01  1.85887569e+00\n",
      "  -5.61246157e-01  3.64058979e-01  4.00695011e-01  2.54696250e-01\n",
      "   4.20442988e-01  1.26522683e+00]\n",
      " [ 6.67576614e-01 -5.02559136e-01  9.97404637e-01  3.28552155e-01\n",
      "  -2.65573467e-01  2.31753982e+00 -2.60374968e-01 -1.67364548e+00\n",
      "   1.87506289e+00 -2.19490937e-01]\n",
      " [ 2.30893081e-02 -9.10378761e-02  1.30501592e+00  1.03157429e+00\n",
      "   2.74518214e-01  3.82870144e-01  1.98246789e-01 -4.36050504e-01\n",
      "   7.35008358e-01  1.33619826e+00]\n",
      " [ 4.22099626e-01  2.04637174e-01 -8.15143830e-01 -1.76702468e+00\n",
      "   2.09951207e-01  6.87510108e-01 -5.30481609e-01  4.29189860e-01\n",
      "   6.72987720e-02 -8.39586208e-02]\n",
      " [ 1.88555225e-01 -4.10783285e-01  1.33718641e+00 -8.98829613e-01\n",
      "   7.12892949e-02  2.46792716e+00 -2.99698362e-01  6.81925159e-01\n",
      "  -1.41014416e-01  1.33078533e+00]\n",
      " [ 1.08716747e+00 -1.15292747e+00 -8.95899993e-01 -1.59590773e-01\n",
      "  -7.22737861e-01  9.34594408e-01  1.24592520e+00 -5.86094476e-01\n",
      "  -1.06993645e+00  9.33156521e-01]\n",
      " [-9.07412633e-01 -1.33834195e+00  1.56057579e+00  9.13464574e-02\n",
      "  -2.79633109e-01 -4.01625902e-01  9.96134266e-01 -3.90533006e-01\n",
      "  -1.49850272e+00  9.72351308e-01]\n",
      " [ 8.12875044e-02 -1.17732868e+00  4.95187393e-01  8.11009812e-02\n",
      "  -3.43583468e-01 -8.31199189e-01 -3.69719228e-01  1.18762880e+00\n",
      "  -8.10113878e-01  3.07033685e+00]\n",
      " [ 2.76274152e-02  1.65494412e-01  5.12930453e-02 -5.35716211e-01\n",
      "  -1.20693746e-01  3.48221074e-01 -1.76911881e-01 -1.60472699e+00\n",
      "  -8.89630063e-01  1.05939565e+00]]\n",
      "\n",
      "\n",
      "Difference Between New Calculated B and original B -\n",
      "\n",
      " [[-3.55271368e-15  2.22044605e-15 -1.77635684e-15 -9.76996262e-15\n",
      "   2.33146835e-15 -3.55271368e-15  1.42108547e-14 -8.88178420e-16\n",
      "   1.09912079e-14  5.10702591e-15]\n",
      " [ 2.22044605e-15  8.88178420e-16 -2.22044605e-16  1.77635684e-15\n",
      "  -8.88178420e-16  1.11022302e-15 -1.77635684e-15  5.55111512e-16\n",
      "  -2.22044605e-15  0.00000000e+00]\n",
      " [-1.77635684e-15 -2.22044605e-16  0.00000000e+00 -2.22044605e-15\n",
      "   4.44089210e-16 -8.88178420e-16  4.88498131e-15 -8.88178420e-16\n",
      "   2.66453526e-15  8.88178420e-16]\n",
      " [-9.76996262e-15  1.77635684e-15 -2.22044605e-15 -2.30926389e-14\n",
      "   7.43849426e-15 -8.88178420e-15  3.19744231e-14 -1.77635684e-15\n",
      "   2.53130850e-14  1.06581410e-14]\n",
      " [ 2.33146835e-15 -8.88178420e-16  4.44089210e-16  7.43849426e-15\n",
      "  -1.33226763e-15  2.77555756e-15 -1.02140518e-14  4.44089210e-16\n",
      "  -8.43769499e-15 -3.55271368e-15]\n",
      " [-3.55271368e-15  1.11022302e-15 -8.88178420e-16 -8.88178420e-15\n",
      "   2.77555756e-15 -3.55271368e-15  1.26565425e-14  0.00000000e+00\n",
      "   1.06581410e-14  3.55271368e-15]\n",
      " [ 1.42108547e-14 -1.77635684e-15  4.88498131e-15  3.19744231e-14\n",
      "  -1.02140518e-14  1.26565425e-14 -4.30766534e-14  3.55271368e-15\n",
      "  -3.50830476e-14 -1.50990331e-14]\n",
      " [-8.88178420e-16  5.55111512e-16 -8.88178420e-16 -1.77635684e-15\n",
      "   4.44089210e-16  0.00000000e+00  3.55271368e-15  0.00000000e+00\n",
      "   2.44249065e-15  8.88178420e-16]\n",
      " [ 1.09912079e-14 -2.22044605e-15  2.66453526e-15  2.53130850e-14\n",
      "  -8.43769499e-15  1.06581410e-14 -3.50830476e-14  2.44249065e-15\n",
      "  -2.84217094e-14 -1.15463195e-14]\n",
      " [ 5.10702591e-15  0.00000000e+00  8.88178420e-16  1.06581410e-14\n",
      "  -3.55271368e-15  3.55271368e-15 -1.50990331e-14  8.88178420e-16\n",
      "  -1.15463195e-14 -3.55271368e-15]]\n"
     ]
    }
   ],
   "source": [
    "print('A2_New - \\n\\n',A2_New)\n",
    "\n",
    "print('\\n\\nDifference Between New Calculated B and original B -\\n\\n', np.subtract(B, np.matmul(np.transpose(A2_New), A2_New)))"
   ]
  },
  {
   "cell_type": "code",
   "execution_count": 45,
   "id": "73eee264",
   "metadata": {},
   "outputs": [
    {
     "name": "stdout",
     "output_type": "stream",
     "text": [
      "A3_New - \n",
      "\n",
      " [[-0.12236316  0.55565614 -0.26637486  0.25373344  0.17709362  1.72227989\n",
      "  -0.3589829   0.34064362  1.90907163 -2.17043049]\n",
      " [ 1.11985304 -0.51261027  0.98431958 -0.32937493 -0.44188575  1.20187741\n",
      "   0.78109522 -0.91774115  0.30814526 -0.06439583]\n",
      " [-0.16820977 -0.87702458  1.14341779  1.16346174  0.01879835  1.06606576\n",
      "  -0.00502637  0.77734177  0.71484219  2.5508405 ]\n",
      " [ 0.62272272  0.50528319 -1.01465374  0.18160891  0.49725679 -1.72886123\n",
      "  -0.66891137 -0.06669336  1.38360374 -1.84563884]\n",
      " [ 2.26062399 -0.35423638 -0.84857049 -1.26086488 -0.40399823  1.0898578\n",
      "  -0.53301242 -0.64582566  0.17499916  0.41226314]\n",
      " [-0.0536569   0.8327589   0.65188799  1.02429652 -0.24484802  1.41452967\n",
      "   0.12350202 -2.5271299   1.30835172 -0.25759217]\n",
      " [-0.5622651   1.69423517 -0.35999107  0.59511433  0.63257802 -0.35835781\n",
      "  -0.47463094  1.15825476  0.76901336 -0.80627726]\n",
      " [ 0.52904614 -0.63290632 -1.40921194  0.2039052   0.26693382 -0.42141685\n",
      "   0.93330245 -0.32114958 -0.6612083  -1.36991871]\n",
      " [ 0.26361225 -0.4600136   1.12760613 -0.91457077  0.85949467  1.03257094\n",
      "  -0.75041302 -0.25807524  0.40642425 -0.46330405]\n",
      " [-0.50104602 -0.27810575  1.5187299   1.88548642 -0.55635546 -0.98244572\n",
      "   0.53986915 -0.43245269  0.0537815   0.56300718]]\n",
      "\n",
      "\n",
      "Difference Between New Calculated B and original B -\n",
      "\n",
      " [[-7.10542736e-15  0.00000000e+00 -8.88178420e-16 -1.15463195e-14\n",
      "   3.99680289e-15 -4.88498131e-15  1.49880108e-14 -1.33226763e-15\n",
      "   1.18793864e-14  4.21884749e-15]\n",
      " [ 0.00000000e+00  0.00000000e+00 -2.22044605e-16  2.22044605e-15\n",
      "   0.00000000e+00  1.33226763e-15 -1.99840144e-15 -2.22044605e-16\n",
      "  -2.66453526e-15 -8.88178420e-16]\n",
      " [-8.88178420e-16 -2.22044605e-16  0.00000000e+00 -3.10862447e-15\n",
      "   1.11022302e-15 -1.77635684e-15  3.88578059e-15 -4.44089210e-16\n",
      "   3.33066907e-15  8.88178420e-16]\n",
      " [-1.15463195e-14  2.22044605e-15 -3.10862447e-15 -2.48689958e-14\n",
      "   8.21565038e-15 -9.32587341e-15  3.35287353e-14 -2.22044605e-15\n",
      "   2.75335310e-14  1.15463195e-14]\n",
      " [ 3.99680289e-15  0.00000000e+00  1.11022302e-15  8.21565038e-15\n",
      "  -1.77635684e-15  2.99760217e-15 -1.04360964e-14  8.88178420e-16\n",
      "  -9.10382880e-15 -3.55271368e-15]\n",
      " [-4.88498131e-15  1.33226763e-15 -1.77635684e-15 -9.32587341e-15\n",
      "   2.99760217e-15 -5.32907052e-15  1.39888101e-14 -1.77635684e-15\n",
      "   9.76996262e-15  5.32907052e-15]\n",
      " [ 1.49880108e-14 -1.99840144e-15  3.88578059e-15  3.35287353e-14\n",
      "  -1.04360964e-14  1.39888101e-14 -4.52970994e-14  3.55271368e-15\n",
      "  -3.64153152e-14 -1.53210777e-14]\n",
      " [-1.33226763e-15 -2.22044605e-16 -4.44089210e-16 -2.22044605e-15\n",
      "   8.88178420e-16 -1.77635684e-15  3.55271368e-15 -1.77635684e-15\n",
      "   2.88657986e-15  1.77635684e-15]\n",
      " [ 1.18793864e-14 -2.66453526e-15  3.33066907e-15  2.75335310e-14\n",
      "  -9.10382880e-15  9.76996262e-15 -3.64153152e-14  2.88657986e-15\n",
      "  -3.01980663e-14 -1.33226763e-14]\n",
      " [ 4.21884749e-15 -8.88178420e-16  8.88178420e-16  1.15463195e-14\n",
      "  -3.55271368e-15  5.32907052e-15 -1.53210777e-14  1.77635684e-15\n",
      "  -1.33226763e-14 -7.10542736e-15]]\n"
     ]
    }
   ],
   "source": [
    "print('A3_New - \\n\\n',A3_New)\n",
    "\n",
    "print('\\n\\nDifference Between New Calculated B and original B -\\n\\n', np.subtract(B, np.matmul(np.transpose(A3_New), A3_New)))"
   ]
  },
  {
   "cell_type": "code",
   "execution_count": 46,
   "id": "8731d217",
   "metadata": {},
   "outputs": [
    {
     "name": "stdout",
     "output_type": "stream",
     "text": [
      "A4_New - \n",
      "\n",
      " [[ 0.20142014 -1.24688981 -0.89119088 -0.94028868 -0.24751833 -1.80569813\n",
      "   0.71526377 -0.46503933 -2.24566337  0.16952436]\n",
      " [ 0.30407049  0.62518654 -1.79409398 -1.42870125  0.45485578 -0.4315412\n",
      "  -0.15064735  1.49327611 -0.30323078 -1.28253737]\n",
      " [-0.50758778 -0.30470429  0.06052235  1.16863831 -0.45417891  0.34114835\n",
      "   1.28294125 -0.05823401  0.03795335 -1.20281786]\n",
      " [ 0.16945239 -0.51882292  0.92236537  0.05610228  0.39940564  1.53173806\n",
      "   0.2179669  -1.25672383  1.01453648 -0.30434771]\n",
      " [ 1.81777871 -1.0126356   0.06459756 -0.78835264 -0.01417729  0.26822692\n",
      "   0.36875894 -0.319558   -0.60264553  0.20015054]\n",
      " [ 1.34451358 -0.08278294  0.4520238  -1.10826408 -0.96031969  1.74080707\n",
      "   0.13401563 -1.85780772  0.22545085  0.1469483 ]\n",
      " [-0.79864577  0.3057859   0.41996331 -0.00821518 -0.08705579  1.00842094\n",
      "   0.58856853 -0.46566906 -1.24803677  1.10923528]\n",
      " [ 0.38899986  0.36556381 -0.75254666  1.3451416  -0.56433726 -0.90598648\n",
      "   0.64144722 -0.92868074  0.20405159  0.71809805]\n",
      " [ 0.81991565  0.96170864 -2.01409812 -0.71883537  0.53817665  0.30092626\n",
      "  -0.5341876  -1.0312719   0.93708676 -3.21418268]\n",
      " [-0.84979392  1.21778978  0.58318467  0.71802114  0.21216122 -1.7670033\n",
      "   0.10860764 -0.58610192  0.21650615 -1.60345157]]\n",
      "\n",
      "\n",
      "Difference Between New Calculated B and original B -\n",
      "\n",
      " [[-4.44089210e-15  4.44089210e-16 -8.88178420e-16 -9.76996262e-15\n",
      "   2.33146835e-15 -3.99680289e-15  1.31561428e-14 -1.33226763e-15\n",
      "   1.11022302e-14  5.10702591e-15]\n",
      " [ 4.44089210e-16  0.00000000e+00 -2.22044605e-16  1.99840144e-15\n",
      "  -1.11022302e-15  4.44089210e-16 -2.44249065e-15  2.22044605e-16\n",
      "  -4.44089210e-16 -8.88178420e-16]\n",
      " [-8.88178420e-16 -2.22044605e-16  0.00000000e+00 -3.10862447e-15\n",
      "   6.66133815e-16  0.00000000e+00  3.66373598e-15  0.00000000e+00\n",
      "   2.88657986e-15  1.77635684e-15]\n",
      " [-9.76996262e-15  1.99840144e-15 -3.10862447e-15 -2.48689958e-14\n",
      "   7.21644966e-15 -9.32587341e-15  3.06421555e-14 -2.66453526e-15\n",
      "   2.57571742e-14  1.06581410e-14]\n",
      " [ 2.33146835e-15 -1.11022302e-15  6.66133815e-16  7.21644966e-15\n",
      "  -2.22044605e-15  2.77555756e-15 -9.99200722e-15  6.66133815e-16\n",
      "  -7.99360578e-15 -3.55271368e-15]\n",
      " [-3.99680289e-15  4.44089210e-16  0.00000000e+00 -9.32587341e-15\n",
      "   2.77555756e-15 -5.32907052e-15  1.24344979e-14 -8.88178420e-16\n",
      "   1.06581410e-14  4.44089210e-15]\n",
      " [ 1.31561428e-14 -2.44249065e-15  3.66373598e-15  3.06421555e-14\n",
      "  -9.99200722e-15  1.24344979e-14 -3.86357613e-14  3.10862447e-15\n",
      "  -3.33066907e-14 -1.44328993e-14]\n",
      " [-1.33226763e-15  2.22044605e-16  0.00000000e+00 -2.66453526e-15\n",
      "   6.66133815e-16 -8.88178420e-16  3.10862447e-15  0.00000000e+00\n",
      "   2.88657986e-15  0.00000000e+00]\n",
      " [ 1.11022302e-14 -4.44089210e-16  2.88657986e-15  2.57571742e-14\n",
      "  -7.99360578e-15  1.06581410e-14 -3.33066907e-14  2.88657986e-15\n",
      "  -2.84217094e-14 -1.15463195e-14]\n",
      " [ 5.10702591e-15 -8.88178420e-16  1.77635684e-15  1.06581410e-14\n",
      "  -3.55271368e-15  4.44089210e-15 -1.44328993e-14  0.00000000e+00\n",
      "  -1.15463195e-14 -3.55271368e-15]]\n"
     ]
    }
   ],
   "source": [
    "print('A4_New - \\n\\n',A4_New)\n",
    "\n",
    "print('\\n\\nDifference Between New Calculated B and original B -\\n\\n', np.subtract(B, np.matmul(np.transpose(A4_New), A4_New)))"
   ]
  },
  {
   "cell_type": "markdown",
   "id": "a543fce5",
   "metadata": {},
   "source": [
    "# Analysing the Results\n",
    "\n",
    "1. We can clearly see here that for different starting matrices of A2, A3 and A4, we do not arrive at the same final matrix after gradient descent. Although, calculating new B from all the final matrices(A2_New, A3_New, A4_New) gives the similar result and difference between the new B's and the original B are insignificant, the final matrices differ from each other.\n",
    "\n",
    "\n",
    "2. Since A^T A is a dot product, we can think of it as the product between the magnitudes and the cosine of the angle between A^T and A. And since we start from different A, we will always arrive at a different final A. The optimization takes place for the magnitude such that A^T A comes closer to B and not the randamly generated A coming closer to the original A."
   ]
  },
  {
   "cell_type": "markdown",
   "id": "019ce793",
   "metadata": {},
   "source": [
    "### 3. Generating B randomly as above, with D = 5, k = 10, suppose that the ‘true’ value of k is forgotten. Try to find A for different values of k. What do you notice about the loss for different k? Can you recover the ‘true’ dimension?"
   ]
  },
  {
   "cell_type": "code",
   "execution_count": 14,
   "id": "1de45934",
   "metadata": {},
   "outputs": [],
   "source": [
    "from asyncio import as_completed\n",
    "import numpy as np\n",
    "import matplotlib.pyplot as plt"
   ]
  },
  {
   "cell_type": "markdown",
   "id": "1a01a07b",
   "metadata": {},
   "source": [
    "# Generating Random Matrix\n",
    "\n",
    "Here we generate the random matrix A1 of size k x 10, where k = 5, and find B using A1^T A1."
   ]
  },
  {
   "cell_type": "code",
   "execution_count": 57,
   "id": "45151cb8",
   "metadata": {},
   "outputs": [
    {
     "name": "stdout",
     "output_type": "stream",
     "text": [
      "B\n",
      "\n",
      " [[ 7.04830862  0.97508543  1.46029965  1.26154893  3.14396458 -2.44201078\n",
      "  -0.84104839  0.71022245  0.86305928 -1.27233287]\n",
      " [ 0.97508543  2.81995399  0.08442527  2.52860724  0.86390145 -2.39417374\n",
      "  -0.83926518 -2.30488897  2.34266185  1.13227229]\n",
      " [ 1.46029965  0.08442527  1.65990358  2.32079191 -0.11919402  0.80430941\n",
      "  -0.69268941  0.09945466  0.73075203 -1.07286485]\n",
      " [ 1.26154893  2.52860724  2.32079191  9.03016156 -3.58534764 -1.96422467\n",
      "  -2.43105746 -2.54135732  2.34747582  3.32816957]\n",
      " [ 3.14396458  0.86390145 -0.11919402 -3.58534764  7.38166436  0.29388673\n",
      "  -0.17113287  0.29288796  2.24111562 -4.23520888]\n",
      " [-2.44201078 -2.39417374  0.80430941 -1.96422467  0.29388673  4.60362729\n",
      "   0.49180285  1.60325338 -0.66551663 -3.29186494]\n",
      " [-0.84104839 -0.83926518 -0.69268941 -2.43105746 -0.17113287  0.49180285\n",
      "   0.97096769  0.71495994 -1.15859717 -0.5095712 ]\n",
      " [ 0.71022245 -2.30488897  0.09945466 -2.54135732  0.29288796  1.60325338\n",
      "   0.71495994  2.27129024 -1.92232356 -1.54910553]\n",
      " [ 0.86305928  2.34266185  0.73075203  2.34747582  2.24111562 -0.66551663\n",
      "  -1.15859717 -1.92232356  2.97581981 -0.62543452]\n",
      " [-1.27233287  1.13227229 -1.07286485  3.32816957 -4.23520888 -3.29186494\n",
      "  -0.5095712  -1.54910553 -0.62543452  5.45117307]]\n"
     ]
    }
   ],
   "source": [
    "A1 = np.random.normal(0,1, size = (5,10))\n",
    "\n",
    "B = np.matmul(np.transpose(A1), A1)\n",
    "\n",
    "print('B\\n\\n',B)\n"
   ]
  },
  {
   "cell_type": "markdown",
   "id": "44149890",
   "metadata": {},
   "source": [
    "# Gradient Descent Algorithm"
   ]
  },
  {
   "cell_type": "code",
   "execution_count": 75,
   "id": "f9aec0cc",
   "metadata": {},
   "outputs": [],
   "source": [
    "def plotResults(LossArray):\n",
    "    plt.plot(LossArray[0:3000])\n",
    "    plt.yscale('log')\n",
    "    plt.xscale('log')\n",
    "    plt.ylabel('Loss Value ->')\n",
    "    plt.xlabel('Time(Iterations) ->')\n",
    "    plt.show()\n",
    "\n",
    "def Gradient_Descent(A, B, alpha):\n",
    "    i = 0\n",
    "    LArray = []\n",
    "\n",
    "    while i < 3000:\n",
    "        A_Squared = np.matmul(np.transpose(A), A)\n",
    "        G = np.dot(4,np.matmul(A,np.subtract(A_Squared, B)))\n",
    "        \n",
    "        LDiff = np.subtract(B, A_Squared)\n",
    "        LSquared = np.matmul(LDiff, LDiff)\n",
    "        L = np.sum(LSquared)\n",
    "        LArray.append(L)\n",
    "    \n",
    "        A = np.subtract(A, np.dot(alpha, G))\n",
    "\n",
    "        i=i+1\n",
    "    \n",
    "    print('Gradient Descent Successful')\n",
    "    plotResults(LArray)\n",
    "    return A\n"
   ]
  },
  {
   "cell_type": "markdown",
   "id": "8c8c0f47",
   "metadata": {},
   "source": [
    "# Forgotten k\n",
    "\n",
    "1. We assume that the original k is forgotten and try to apply gradient descent algorithm to matrices of size k x 10, where k ranges from 3 to 8.\n",
    "\n",
    "\n",
    "2. We display the Loss values from the final 100 iterations of the gradient descent algorithm for reference. We also display the calculated B and compare it with the original B from above."
   ]
  },
  {
   "cell_type": "code",
   "execution_count": 76,
   "id": "5c581eaf",
   "metadata": {},
   "outputs": [
    {
     "name": "stdout",
     "output_type": "stream",
     "text": [
      "Gradient Descent Successful\n"
     ]
    },
    {
     "data": {
      "image/png": "[encoded data removed]",
      "text/plain": [
       "<Figure size 432x288 with 1 Axes>"
      ]
     },
     "metadata": {
      "needs_background": "light"
     },
     "output_type": "display_data"
    }
   ],
   "source": [
    "#k = 3\n",
    "\n",
    "A2 = np.random.normal(0,1, size = (3,10))\n",
    "A2_New = Gradient_Descent(A2, B, 0.003)\n"
   ]
  },
  {
   "cell_type": "code",
   "execution_count": 77,
   "id": "cb614ae9",
   "metadata": {},
   "outputs": [
    {
     "name": "stdout",
     "output_type": "stream",
     "text": [
      "New Calculated B - \n",
      "\n",
      " [[ 4.52682834  2.19970468  0.68523017  0.861221    4.27888289 -2.13117115\n",
      "  -0.95468631 -0.84987407  2.44580129 -1.3446229 ]\n",
      " [ 2.19970468  2.04356007  0.39277038  2.80003692  0.4819979  -2.48854835\n",
      "  -0.97335037 -1.42174014  1.5576809   1.35939659]\n",
      " [ 0.68523017  0.39277038  1.39613397  2.22660158  0.29312928  0.92107213\n",
      "  -0.7985741  -0.33307109  1.21116179 -1.02310531]\n",
      " [ 0.861221    2.80003692  2.22660158  8.93395847 -3.47693339 -1.93886579\n",
      "  -2.36885614 -2.84223322  2.60566628  3.235288  ]\n",
      " [ 4.27888289  0.4819979   0.29312928 -3.47693339  6.71303273  0.10122722\n",
      "   0.05644286  0.87815414  1.5439012  -4.38165113]\n",
      " [-2.13117115 -2.48854835  0.92107213 -1.93886579  0.10122722  4.5476747\n",
      "   0.56478739  1.75648871 -0.85555817 -3.34278222]\n",
      " [-0.95468631 -0.97335037 -0.7985741  -2.36885614  0.05644286  0.56478739\n",
      "   0.76859892  0.7753821  -1.10423515 -0.31272788]\n",
      " [-0.84987407 -1.42174014 -0.33307109 -2.84223322  0.87815414  1.75648871\n",
      "   0.7753821   1.21937598 -0.93179878 -1.72645703]\n",
      " [ 2.44580129  1.5576809   1.21116179  2.60566628  1.5439012  -0.85555817\n",
      "  -1.10423515 -0.93179878  1.9808673  -0.5628434 ]\n",
      " [-1.3446229   1.35939659 -1.02310531  3.235288   -4.38165113 -3.34278222\n",
      "  -0.31272788 -1.72645703 -0.5628434   5.24610403]]\n",
      "\n",
      "\n",
      "Difference between New B and Original B - \n",
      "\n",
      " [[-2.52148028  1.22461925 -0.77506947 -0.40032794  1.13491832  0.31083964\n",
      "  -0.11363792 -1.56009652  1.582742   -0.07229003]\n",
      " [ 1.22461925 -0.77639392  0.30834511  0.27142968 -0.38190356 -0.09437461\n",
      "  -0.13408519  0.88314883 -0.78498095  0.22712431]\n",
      " [-0.77506947  0.30834511 -0.26376961 -0.09419033  0.4123233   0.11676271\n",
      "  -0.10588469 -0.43252575  0.48040976  0.04975954]\n",
      " [-0.40032794  0.27142968 -0.09419033 -0.09620309  0.10841425  0.02535888\n",
      "   0.06220132 -0.30087589  0.25819046 -0.09288157]\n",
      " [ 1.13491832 -0.38190356  0.4123233   0.10841425 -0.66863163 -0.19265951\n",
      "   0.22757573  0.58526618 -0.69721442 -0.14644226]\n",
      " [ 0.31083964 -0.09437461  0.11676271  0.02535888 -0.19265951 -0.05595259\n",
      "   0.07298454  0.15323532 -0.19004154 -0.05091728]\n",
      " [-0.11363792 -0.13408519 -0.10588469  0.06220132  0.22757573  0.07298454\n",
      "  -0.20236877  0.06042215  0.05436202  0.19684332]\n",
      " [-1.56009652  0.88314883 -0.43252575 -0.30087589  0.58526618  0.15323532\n",
      "   0.06042215 -1.05191425  0.99052478 -0.1773515 ]\n",
      " [ 1.582742   -0.78498095  0.48040976  0.25819046 -0.69721442 -0.19004154\n",
      "   0.05436202  0.99052478 -0.99495251  0.06259112]\n",
      " [-0.07229003  0.22712431  0.04975954 -0.09288157 -0.14644226 -0.05091728\n",
      "   0.19684332 -0.1773515   0.06259112 -0.20506904]]\n"
     ]
    }
   ],
   "source": [
    "B2_New = np.matmul(np.transpose(A2_New), A2_New)\n",
    "print('New Calculated B - \\n\\n', B2_New)\n",
    "\n",
    "print('\\n\\nDifference between New B and Original B - \\n\\n', np.subtract(B2_New, B))"
   ]
  },
  {
   "cell_type": "code",
   "execution_count": 78,
   "id": "5ee9bc13",
   "metadata": {},
   "outputs": [
    {
     "name": "stdout",
     "output_type": "stream",
     "text": [
      "Gradient Descent Successful\n"
     ]
    },
    {
     "data": {
      "image/png": "[encoded data removed]",
      "text/plain": [
       "<Figure size 432x288 with 1 Axes>"
      ]
     },
     "metadata": {
      "needs_background": "light"
     },
     "output_type": "display_data"
    }
   ],
   "source": [
    "#k = 4\n",
    "\n",
    "A3 = np.random.normal(0,1, size = (4,10))\n",
    "A3_New = Gradient_Descent(A3, B, 0.003)\n"
   ]
  },
  {
   "cell_type": "code",
   "execution_count": 62,
   "id": "8eacb0a4",
   "metadata": {},
   "outputs": [
    {
     "name": "stdout",
     "output_type": "stream",
     "text": [
      "New Calculated B - \n",
      "\n",
      " [[ 7.03929473  0.93907369  1.44238808  1.27724089  3.18566946 -2.4283148\n",
      "  -0.88354513  0.73254229  0.86509635 -1.22989179]\n",
      " [ 0.93907369  2.67608216  0.01286611  2.59129877  1.03051817 -2.33945641\n",
      "  -1.00904549 -2.21571817  2.35080022  1.30183022]\n",
      " [ 1.44238808  0.01286611  1.62431139  2.3519735  -0.03632197  0.83152479\n",
      "  -0.77713497  0.14380655  0.7347999  -0.9885299 ]\n",
      " [ 1.27724089  2.59129877  2.3519735   9.00284399 -3.65795015 -1.98806751\n",
      "  -2.35707642 -2.58021312  2.34392956  3.25428544]\n",
      " [ 3.18566946  1.03051817 -0.03632197 -3.65795015  7.188707    0.23051907\n",
      "   0.02548822  0.18962003  2.23169065 -4.43157243]\n",
      " [-2.4283148  -2.33945641  0.83152479 -1.98806751  0.23051907  4.5828172\n",
      "   0.55637369  1.56933994 -0.66861181 -3.3563512 ]\n",
      " [-0.88354513 -1.00904549 -0.77713497 -2.35707642  0.02548822  0.55637369\n",
      "   0.77061331  0.82018865 -1.14899325 -0.30947924]\n",
      " [ 0.73254229 -2.21571817  0.14380655 -2.58021312  0.18962003  1.56933994\n",
      "   0.82018865  2.21602276 -1.92736766 -1.65419641]\n",
      " [ 0.86509635  2.35080022  0.7347999   2.34392956  2.23169065 -0.66861181\n",
      "  -1.14899325 -1.92736766  2.97535945 -0.63502587]\n",
      " [-1.22989179  1.30183022 -0.9885299   3.25428544 -4.43157243 -3.3563512\n",
      "  -0.30947924 -1.65419641 -0.63502587  5.25134319]]\n",
      "\n",
      "\n",
      "Difference between New B and Original B - \n",
      "\n",
      " [[-0.00901389 -0.03601174 -0.01791157  0.01569196  0.04170488  0.01369598\n",
      "  -0.04249674  0.02231984  0.00203707  0.04244108]\n",
      " [-0.03601174 -0.14387183 -0.07155917  0.06269153  0.16661671  0.05471733\n",
      "  -0.16978031  0.08917081  0.00813837  0.16955793]\n",
      " [-0.01791157 -0.07155917 -0.03559219  0.0311816   0.08287204  0.02721538\n",
      "  -0.08444556  0.0443519   0.00404787  0.08433495]\n",
      " [ 0.01569196  0.06269153  0.0311816  -0.02731757 -0.07260252 -0.02384284\n",
      "   0.07398104 -0.0388558  -0.00354626 -0.07388414]\n",
      " [ 0.04170488  0.16661671  0.08287204 -0.07260252 -0.19295736 -0.06336766\n",
      "   0.19662109 -0.10326793 -0.00942497 -0.19636356]\n",
      " [ 0.01369598  0.05471733  0.02721538 -0.02384284 -0.06336766 -0.02081009\n",
      "   0.06457084 -0.03391344 -0.00309518 -0.06448626]\n",
      " [-0.04249674 -0.16978031 -0.08444556  0.07398104  0.19662109  0.06457084\n",
      "  -0.20035439  0.10522871  0.00960392  0.20009196]\n",
      " [ 0.02231984  0.08917081  0.0443519  -0.0388558  -0.10326793 -0.03391344\n",
      "   0.10522871 -0.05526748 -0.0050441  -0.10509088]\n",
      " [ 0.00203707  0.00813837  0.00404787 -0.00354626 -0.00942497 -0.00309518\n",
      "   0.00960392 -0.0050441  -0.00046036 -0.00959134]\n",
      " [ 0.04244108  0.16955793  0.08433495 -0.07388414 -0.19636356 -0.06448626\n",
      "   0.20009196 -0.10509088 -0.00959134 -0.19982988]]\n"
     ]
    }
   ],
   "source": [
    "B3_New = np.matmul(np.transpose(A3_New), A3_New)\n",
    "print('New Calculated B - \\n\\n', B3_New)\n",
    "\n",
    "print('\\n\\nDifference between New B and Original B - \\n\\n', np.subtract(B3_New, B))"
   ]
  },
  {
   "cell_type": "code",
   "execution_count": 79,
   "id": "2cf6c95b",
   "metadata": {},
   "outputs": [
    {
     "name": "stdout",
     "output_type": "stream",
     "text": [
      "Gradient Descent Successful\n"
     ]
    },
    {
     "data": {
      "image/png": "[encoded data removed]",
      "text/plain": [
       "<Figure size 432x288 with 1 Axes>"
      ]
     },
     "metadata": {
      "needs_background": "light"
     },
     "output_type": "display_data"
    }
   ],
   "source": [
    "#k = 5\n",
    "\n",
    "A4 = np.random.normal(0,1, size = (5,10))\n",
    "A4_New = Gradient_Descent(A4, B, 0.003)"
   ]
  },
  {
   "cell_type": "code",
   "execution_count": 64,
   "id": "3f75f2d2",
   "metadata": {},
   "outputs": [
    {
     "name": "stdout",
     "output_type": "stream",
     "text": [
      "New Calculated B - \n",
      "\n",
      " [[ 7.04830862  0.97508543  1.46029965  1.26154893  3.14396458 -2.44201078\n",
      "  -0.84104839  0.71022245  0.86305928 -1.27233287]\n",
      " [ 0.97508543  2.81995399  0.08442527  2.52860724  0.86390145 -2.39417374\n",
      "  -0.83926518 -2.30488897  2.34266185  1.13227229]\n",
      " [ 1.46029965  0.08442527  1.65990358  2.32079191 -0.11919402  0.80430941\n",
      "  -0.69268941  0.09945466  0.73075203 -1.07286485]\n",
      " [ 1.26154893  2.52860724  2.32079191  9.03016156 -3.58534764 -1.96422467\n",
      "  -2.43105746 -2.54135732  2.34747582  3.32816957]\n",
      " [ 3.14396458  0.86390145 -0.11919402 -3.58534764  7.38166436  0.29388673\n",
      "  -0.17113287  0.29288796  2.24111562 -4.23520888]\n",
      " [-2.44201078 -2.39417374  0.80430941 -1.96422467  0.29388673  4.60362729\n",
      "   0.49180285  1.60325338 -0.66551663 -3.29186494]\n",
      " [-0.84104839 -0.83926518 -0.69268941 -2.43105746 -0.17113287  0.49180285\n",
      "   0.97096769  0.71495994 -1.15859717 -0.5095712 ]\n",
      " [ 0.71022245 -2.30488897  0.09945466 -2.54135732  0.29288796  1.60325338\n",
      "   0.71495994  2.27129024 -1.92232356 -1.54910553]\n",
      " [ 0.86305928  2.34266185  0.73075203  2.34747582  2.24111562 -0.66551663\n",
      "  -1.15859717 -1.92232356  2.97581981 -0.62543452]\n",
      " [-1.27233287  1.13227229 -1.07286485  3.32816957 -4.23520888 -3.29186494\n",
      "  -0.5095712  -1.54910553 -0.62543452  5.45117307]]\n",
      "\n",
      "\n",
      "Difference between New B and Original B - \n",
      "\n",
      " [[ 3.55271368e-15  3.21964677e-15 -8.88178420e-16 -6.66133815e-16\n",
      "  -2.22044605e-15  8.88178420e-16  1.11022302e-15 -3.10862447e-15\n",
      "  -4.55191440e-15 -3.10862447e-15]\n",
      " [ 3.21964677e-15  1.02140518e-14 -2.10942375e-15  0.00000000e+00\n",
      "  -5.66213743e-15  2.22044605e-15  3.44169138e-15 -3.99680289e-15\n",
      "  -7.10542736e-15 -7.77156117e-15]\n",
      " [-8.88178420e-16 -2.10942375e-15 -5.99520433e-15  2.66453526e-15\n",
      "   6.02295991e-15  2.99760217e-15 -7.21644966e-15  6.66133815e-16\n",
      "  -3.88578059e-15  3.77475828e-15]\n",
      " [-6.66133815e-16  0.00000000e+00  2.66453526e-15 -3.55271368e-15\n",
      "  -2.22044605e-15 -2.66453526e-15  3.55271368e-15 -8.88178420e-16\n",
      "   2.66453526e-15 -2.66453526e-15]\n",
      " [-2.22044605e-15 -5.66213743e-15  6.02295991e-15 -2.22044605e-15\n",
      "  -3.55271368e-15 -4.88498131e-15  3.71924713e-15  3.21964677e-15\n",
      "   7.54951657e-15  1.77635684e-15]\n",
      " [ 8.88178420e-16  2.22044605e-15  2.99760217e-15 -2.66453526e-15\n",
      "  -4.88498131e-15 -7.99360578e-15  5.77315973e-15 -1.33226763e-15\n",
      "   1.55431223e-15 -3.10862447e-15]\n",
      " [ 1.11022302e-15  3.44169138e-15 -7.21644966e-15  3.55271368e-15\n",
      "   3.71924713e-15  5.77315973e-15 -5.88418203e-15 -9.99200722e-16\n",
      "  -8.21565038e-15  1.11022302e-15]\n",
      " [-3.10862447e-15 -3.99680289e-15  6.66133815e-16 -8.88178420e-16\n",
      "   3.21964677e-15 -1.33226763e-15 -9.99200722e-16  4.44089210e-16\n",
      "   4.66293670e-15  3.55271368e-15]\n",
      " [-4.55191440e-15 -7.10542736e-15 -3.88578059e-15  2.66453526e-15\n",
      "   7.54951657e-15  1.55431223e-15 -8.21565038e-15  4.66293670e-15\n",
      "   1.77635684e-15  8.21565038e-15]\n",
      " [-3.10862447e-15 -7.77156117e-15  3.77475828e-15 -2.66453526e-15\n",
      "   1.77635684e-15 -3.10862447e-15  1.11022302e-15  3.55271368e-15\n",
      "   8.21565038e-15  7.99360578e-15]]\n"
     ]
    }
   ],
   "source": [
    "B4_New = np.matmul(np.transpose(A4_New), A4_New)\n",
    "print('New Calculated B - \\n\\n', B4_New)\n",
    "\n",
    "print('\\n\\nDifference between New B and Original B - \\n\\n', np.subtract(B4_New, B))"
   ]
  },
  {
   "cell_type": "code",
   "execution_count": 80,
   "id": "9e3f8d54",
   "metadata": {},
   "outputs": [
    {
     "name": "stdout",
     "output_type": "stream",
     "text": [
      "Gradient Descent Successful\n"
     ]
    },
    {
     "data": {
      "image/png": "[encoded data removed]",
      "text/plain": [
       "<Figure size 432x288 with 1 Axes>"
      ]
     },
     "metadata": {
      "needs_background": "light"
     },
     "output_type": "display_data"
    }
   ],
   "source": [
    "#k = 6\n",
    "\n",
    "A5 = np.random.normal(0,1, size = (6,10))\n",
    "A5_New = Gradient_Descent(A5, B, 0.003)\n"
   ]
  },
  {
   "cell_type": "code",
   "execution_count": 66,
   "id": "c5c9ccf0",
   "metadata": {},
   "outputs": [
    {
     "name": "stdout",
     "output_type": "stream",
     "text": [
      "New Calculated B - \n",
      "\n",
      " [[ 7.04840986  0.97506192  1.46070353  1.26094256  3.14355901 -2.4420169\n",
      "  -0.84150173  0.71037222  0.86370091 -1.27209965]\n",
      " [ 0.97506192  2.81995945  0.08433149  2.52874804  0.86399563 -2.39417232\n",
      "  -0.83915991 -2.30492375  2.34251286  1.13221813]\n",
      " [ 1.46070353  0.08433149  1.6615148   2.3183729  -0.12081196  0.804285\n",
      "  -0.69449794  0.10005211  0.73331169 -1.07193447]\n",
      " [ 1.26094256  2.52874804  2.3183729   9.03379335 -3.58291853 -1.96418802\n",
      "  -2.42834221 -2.54225431  2.34363286  3.32677273]\n",
      " [ 3.14355901  0.86399563 -0.12081196 -3.58291853  7.38328906  0.29391125\n",
      "  -0.16931679  0.29228802  2.23854527 -4.23614315]\n",
      " [-2.4420169  -2.39417232  0.804285   -1.96418802  0.29391125  4.60362766\n",
      "   0.49183025  1.60324433 -0.66555541 -3.29187903]\n",
      " [-0.84150173 -0.83915991 -0.69449794 -2.42834221 -0.16931679  0.49183025\n",
      "   0.9729977   0.71428933 -1.16147029 -0.51061552]\n",
      " [ 0.71037222 -2.30492375  0.10005211 -2.54225431  0.29228802  1.60324433\n",
      "   0.71428933  2.27151177 -1.92137442 -1.54876054]\n",
      " [ 0.86370091  2.34251286  0.73331169  2.34363286  2.23854527 -0.66555541\n",
      "  -1.16147029 -1.92137442  2.97988621 -0.62395647]\n",
      " [-1.27209965  1.13221813 -1.07193447  3.32677273 -4.23614315 -3.29187903\n",
      "  -0.51061552 -1.54876054 -0.62395647  5.45171032]]\n",
      "\n",
      "\n",
      "Difference between New B and Original B - \n",
      "\n",
      " [[ 1.01240294e-04 -2.35081432e-05  4.03881420e-04 -6.06369290e-04\n",
      "  -4.05568052e-04 -6.11887482e-06 -4.53340887e-04  1.49761890e-04\n",
      "   6.41625587e-04  2.33218307e-04]\n",
      " [-2.35081432e-05  5.45862500e-06 -9.37818523e-05  1.40799830e-04\n",
      "   9.41734908e-05  1.42081162e-06  1.05266412e-04 -3.47749284e-05\n",
      "  -1.48986393e-04 -5.41536295e-05]\n",
      " [ 4.03881420e-04 -9.37818523e-05  1.61121818e-03 -2.41901007e-03\n",
      "  -1.61794672e-03 -2.44102399e-05 -1.80852855e-03  5.97450309e-04\n",
      "   2.55965924e-03  9.30385891e-04]\n",
      " [-6.06369290e-04  1.40799830e-04 -2.41901007e-03  3.63179227e-03\n",
      "   2.42911200e-03  3.66484296e-05  2.71524293e-03 -8.96984862e-04\n",
      "  -3.84295657e-03 -1.39683928e-03]\n",
      " [-4.05568052e-04  9.41734908e-05 -1.61794672e-03  2.42911200e-03\n",
      "   1.62470336e-03  2.45121784e-05  1.81608107e-03 -5.99945297e-04\n",
      "  -2.57034853e-03 -9.34271237e-04]\n",
      " [-6.11887482e-06  1.42081162e-06 -2.44102399e-05  3.66484296e-05\n",
      "   2.45121784e-05  3.69819444e-07  2.73995268e-05 -9.05147767e-06\n",
      "  -3.87792895e-05 -1.40955105e-05]\n",
      " [-4.53340887e-04  1.05266412e-04 -1.80852855e-03  2.71524293e-03\n",
      "   1.81608107e-03  2.73995268e-05  2.03000162e-03 -6.70614293e-04\n",
      "  -2.87311605e-03 -1.04432129e-03]\n",
      " [ 1.49761890e-04 -3.47749284e-05  5.97450309e-04 -8.96984862e-04\n",
      "  -5.99945297e-04 -9.05147767e-06 -6.70614293e-04  2.21538509e-04\n",
      "   9.49138502e-04  3.44993215e-04]\n",
      " [ 6.41625587e-04 -1.48986393e-04  2.55965924e-03 -3.84295657e-03\n",
      "  -2.57034853e-03 -3.87792895e-05 -2.87311605e-03  9.49138502e-04\n",
      "   4.06639866e-03  1.47805609e-03]\n",
      " [ 2.33218307e-04 -5.41536295e-05  9.30385891e-04 -1.39683928e-03\n",
      "  -9.34271237e-04 -1.40955105e-05 -1.04432129e-03  3.44993215e-04\n",
      "   1.47805609e-03  5.37244377e-04]]\n"
     ]
    }
   ],
   "source": [
    "B5_New = np.matmul(np.transpose(A5_New), A5_New)\n",
    "print('New Calculated B - \\n\\n', B5_New)\n",
    "\n",
    "print('\\n\\nDifference between New B and Original B - \\n\\n', np.subtract(B5_New, B))"
   ]
  },
  {
   "cell_type": "code",
   "execution_count": 81,
   "id": "09aed513",
   "metadata": {},
   "outputs": [
    {
     "name": "stdout",
     "output_type": "stream",
     "text": [
      "Gradient Descent Successful\n"
     ]
    },
    {
     "data": {
      "image/png": "[encoded data removed]",
      "text/plain": [
       "<Figure size 432x288 with 1 Axes>"
      ]
     },
     "metadata": {
      "needs_background": "light"
     },
     "output_type": "display_data"
    }
   ],
   "source": [
    "#k = 7\n",
    "\n",
    "A6 = np.random.normal(0,1, size = (7,10))\n",
    "A6_New = Gradient_Descent(A6, B, 0.003)\n"
   ]
  },
  {
   "cell_type": "code",
   "execution_count": 68,
   "id": "df94af8d",
   "metadata": {},
   "outputs": [
    {
     "name": "stdout",
     "output_type": "stream",
     "text": [
      "New Calculated B - \n",
      "\n",
      " [[ 7.04980317  0.97313594  1.45955633  1.26088673  3.143062   -2.44088815\n",
      "  -0.83971471  0.70888518  0.86566864 -1.27130037]\n",
      " [ 0.97313594  2.82278712  0.08450755  2.53040793  0.86551875 -2.39532609\n",
      "  -0.83973047 -2.30258699  2.33909971  1.13090821]\n",
      " [ 1.45955633  0.08450755  1.66298625  2.31825661 -0.12009034  0.80279711\n",
      "  -0.69724912  0.09841477  0.72993881 -1.07332551]\n",
      " [ 1.26088673  2.53040793  2.31825661  9.03347976 -3.5835273  -1.96371479\n",
      "  -2.42753415 -2.53896451  2.34580803  3.32765629]\n",
      " [ 3.143062    0.86551875 -0.12009034 -3.5835273   7.38287647  0.29368178\n",
      "  -0.17000627  0.29454097  2.23929952 -4.23585862]\n",
      " [-2.44088815 -2.39532609  0.80279711 -1.96371479  0.29368178  4.60480599\n",
      "   0.49417473  1.60284841 -0.66372699 -3.29110797]\n",
      " [-0.83971471 -0.83973047 -0.69724912 -2.42753415 -0.17000627  0.49417473\n",
      "   0.97775387  0.71621531 -1.15696459 -0.50872575]\n",
      " [ 0.70888518 -2.30258699  0.09841477 -2.53896451  0.29454097  1.60284841\n",
      "   0.71621531  2.27355829 -1.92496285 -1.55006259]\n",
      " [ 0.86566864  2.33909971  0.72993881  2.34580803  2.23929952 -0.66372699\n",
      "  -1.15696459 -1.92496285  2.98046209 -0.62362243]\n",
      " [-1.27130037  1.13090821 -1.07332551  3.32765629 -4.23585862 -3.29110797\n",
      "  -0.50872575 -1.55006259 -0.62362243  5.45188739]]\n",
      "\n",
      "\n",
      "Difference between New B and Original B - \n",
      "\n",
      " [[ 1.49454601e-03 -1.94949009e-03 -7.43317884e-04 -6.62200381e-04\n",
      "  -9.02576697e-04  1.12262887e-03  1.33368114e-03 -1.33727442e-03\n",
      "   2.60935952e-03  1.03249350e-03]\n",
      " [-1.94949009e-03  2.83312759e-03  8.22719007e-05  1.80069474e-03\n",
      "   1.61729641e-03 -1.15235594e-03 -4.65290155e-04  2.30198032e-03\n",
      "  -3.56213587e-03 -1.36407442e-03]\n",
      " [-7.43317884e-04  8.22719007e-05  3.08267214e-03 -2.53529956e-03\n",
      "  -8.96325697e-04 -1.51230306e-03 -4.55971443e-03 -1.03988402e-03\n",
      "  -8.13219142e-04 -4.60659207e-04]\n",
      " [-6.62200381e-04  1.80069474e-03 -2.53529956e-03  3.31819957e-03\n",
      "   1.82034110e-03  5.09877771e-04  3.52330393e-03  2.39281481e-03\n",
      "  -1.66779364e-03 -5.13285112e-04]\n",
      " [-9.02576697e-04  1.61729641e-03 -8.96325697e-04  1.82034110e-03\n",
      "   1.21210556e-03 -2.04952079e-04  1.12659505e-03  1.65301008e-03\n",
      "  -1.81609347e-03 -6.49745020e-04]\n",
      " [ 1.12262887e-03 -1.15235594e-03 -1.51230306e-03  5.09877771e-04\n",
      "  -2.04952079e-04  1.17870192e-03  2.37187918e-03 -4.04974929e-04\n",
      "   1.78963836e-03  7.56972574e-04]\n",
      " [ 1.33368114e-03 -4.65290155e-04 -4.55971443e-03  3.52330393e-03\n",
      "   1.12659505e-03  2.37187918e-03  6.78617540e-03  1.25537137e-03\n",
      "   1.63258008e-03  8.45450443e-04]\n",
      " [-1.33727442e-03  2.30198032e-03 -1.03988402e-03  2.39281481e-03\n",
      "   1.65301008e-03 -4.04974929e-04  1.25537137e-03  2.26805488e-03\n",
      "  -2.63929624e-03 -9.57060881e-04]\n",
      " [ 2.60935952e-03 -3.56213587e-03 -8.13219142e-04 -1.66779364e-03\n",
      "  -1.81609347e-03  1.78963836e-03  1.63258008e-03 -2.63929624e-03\n",
      "   4.64228064e-03  1.81209252e-03]\n",
      " [ 1.03249350e-03 -1.36407442e-03 -4.60659207e-04 -5.13285112e-04\n",
      "  -6.49745020e-04  7.56972574e-04  8.45450443e-04 -9.57060881e-04\n",
      "   1.81209252e-03  7.14318471e-04]]\n"
     ]
    }
   ],
   "source": [
    "B6_New = np.matmul(np.transpose(A6_New), A6_New)\n",
    "print('New Calculated B - \\n\\n', B6_New)\n",
    "\n",
    "print('\\n\\nDifference between New B and Original B - \\n\\n', np.subtract(B6_New, B))"
   ]
  },
  {
   "cell_type": "code",
   "execution_count": 82,
   "id": "ce6837e2",
   "metadata": {},
   "outputs": [
    {
     "name": "stdout",
     "output_type": "stream",
     "text": [
      "Gradient Descent Successful\n"
     ]
    },
    {
     "data": {
      "image/png": "[encoded data removed]",
      "text/plain": [
       "<Figure size 432x288 with 1 Axes>"
      ]
     },
     "metadata": {
      "needs_background": "light"
     },
     "output_type": "display_data"
    }
   ],
   "source": [
    "#k = 8\n",
    "\n",
    "A7 = np.random.normal(0,1, size = (8,10))\n",
    "A7_New = Gradient_Descent(A7, B, 0.003)\n"
   ]
  },
  {
   "cell_type": "code",
   "execution_count": 70,
   "id": "447968f7",
   "metadata": {
    "scrolled": true
   },
   "outputs": [
    {
     "name": "stdout",
     "output_type": "stream",
     "text": [
      "New Calculated B - \n",
      "\n",
      " [[ 7.05091651  0.9754342   1.45781899  1.2602475   3.14224041 -2.43895697\n",
      "  -0.84260159  0.70791911  0.86368306 -1.27171387]\n",
      " [ 0.9754342   2.82695203  0.08620385  2.52698486  0.86398304 -2.39057774\n",
      "  -0.84010311 -2.30078361  2.34163015  1.1354456 ]\n",
      " [ 1.45781899  0.08620385  1.66491232  2.32161773 -0.11581057  0.80314024\n",
      "  -0.69114376  0.10002594  0.72662203 -1.07157603]\n",
      " [ 1.2602475   2.52698486  2.32161773  9.03111316 -3.58452963 -1.96640224\n",
      "  -2.43014748 -2.54116804  2.34735297  3.32722965]\n",
      " [ 3.14224041  0.86398304 -0.11581057 -3.58452963  7.38417156  0.29264127\n",
      "  -0.16992125  0.29217965  2.23802797 -4.23470824]\n",
      " [-2.43895697 -2.39057774  0.80314024 -1.96640224  0.29264127  4.60895861\n",
      "   0.48979431  1.60144835 -0.66652038 -3.28936373]\n",
      " [-0.84260159 -0.84010311 -0.69114376 -2.43014748 -0.16992125  0.48979431\n",
      "   0.97198343  0.71554921 -1.15928086 -0.51009866]\n",
      " [ 0.70791911 -2.30078361  0.10002594 -2.54116804  0.29217965  1.60144835\n",
      "   0.71554921  2.28048764 -1.91886992 -1.54907431]\n",
      " [ 0.86368306  2.34163015  0.72662203  2.34735297  2.23802797 -0.66652038\n",
      "  -1.15928086 -1.91886992  2.98124037 -0.62727805]\n",
      " [-1.27171387  1.1354456  -1.07157603  3.32722965 -4.23470824 -3.28936373\n",
      "  -0.51009866 -1.54907431 -0.62727805  5.45313338]]\n",
      "\n",
      "\n",
      "Difference between New B and Original B - \n",
      "\n",
      " [[ 2.60788448e-03  3.48765698e-04 -2.48065486e-03 -1.30143041e-03\n",
      "  -1.72416293e-03  3.05381400e-03 -1.55320568e-03 -2.30334730e-03\n",
      "   6.23780188e-04  6.18997580e-04]\n",
      " [ 3.48765698e-04  6.99803230e-03  1.77857214e-03 -1.62238282e-03\n",
      "   8.15846697e-05  3.59599435e-03 -8.37928344e-04  4.10536397e-03\n",
      "  -1.03169991e-03  3.17330847e-03]\n",
      " [-2.48065486e-03  1.77857214e-03  5.00873799e-03  8.25819181e-04\n",
      "   3.38344486e-03 -1.16917217e-03  1.54564883e-03  5.71278642e-04\n",
      "  -4.12999923e-03  1.28881796e-03]\n",
      " [-1.30143041e-03 -1.62238282e-03  8.25819181e-04  9.51603845e-04\n",
      "   8.18012007e-04 -2.17756468e-03  9.09975224e-04  1.89287099e-04\n",
      "  -1.22853744e-04 -9.39924550e-04]\n",
      " [-1.72416293e-03  8.15846697e-05  3.38344486e-03  8.18012007e-04\n",
      "   2.50719612e-03 -1.24546038e-03  1.21161987e-03 -7.08307556e-04\n",
      "  -3.08764819e-03  5.00638064e-04]\n",
      " [ 3.05381400e-03  3.59599435e-03 -1.16917217e-03 -2.17756468e-03\n",
      "  -1.24546038e-03  5.33131937e-03 -2.00853985e-03 -1.80503516e-03\n",
      "  -1.00374827e-03  2.50120467e-03]\n",
      " [-1.55320568e-03 -8.37928344e-04  1.54564883e-03  9.09975224e-04\n",
      "   1.21161987e-03 -2.00853985e-03  1.01573270e-03  5.89269684e-04\n",
      "  -6.83688791e-04 -5.27457724e-04]\n",
      " [-2.30334730e-03  4.10536397e-03  5.71278642e-04  1.89287099e-04\n",
      "  -7.08307556e-04 -1.80503516e-03  5.89269684e-04  9.19740664e-03\n",
      "   3.45363632e-03  3.12226747e-05]\n",
      " [ 6.23780188e-04 -1.03169991e-03 -4.12999923e-03 -1.22853744e-04\n",
      "  -3.08764819e-03 -1.00374827e-03 -6.83688791e-04  3.45363632e-03\n",
      "   5.42056017e-03 -1.84353089e-03]\n",
      " [ 6.18997580e-04  3.17330847e-03  1.28881796e-03 -9.39924550e-04\n",
      "   5.00638064e-04  2.50120467e-03 -5.27457724e-04  3.12226747e-05\n",
      "  -1.84353089e-03  1.96031096e-03]]\n"
     ]
    }
   ],
   "source": [
    "B7_New = np.matmul(np.transpose(A7_New), A7_New)\n",
    "print('New Calculated B - \\n\\n', B7_New)\n",
    "\n",
    "print('\\n\\nDifference between New B and Original B - \\n\\n', np.subtract(B7_New, B))"
   ]
  },
  {
   "cell_type": "markdown",
   "id": "bcc622a3",
   "metadata": {},
   "source": [
    "\n",
    "\n",
    "# Analysing the Results\n",
    "\n",
    "1. From the above results we can clearly see that, for all k values, the Loss Values are decreasing. But, all of them except when k = 5, are far from the desired result. \n",
    "\n",
    "\n",
    "2. In the case of k = 3 and k = 4, the Loss values are comparitively huge and do not actually converge to 0. The losses also plateu after a certain point and we see no decrease in the loss. And thus, we do not get close to the desired B.\n",
    "\n",
    "\n",
    "3. In the case of k > = 6, the Loss values are comparitively smaller than when k < 5 and are constantly decreasing, but the time taken to converge to 0 is too slow. It might be the case that if the run the Gradient Descent algorithm for more iterations, we could get smaller losses but that would be sub-optimal.\n",
    "\n",
    "\n",
    "4. In the case of k = 5, the Loss values are in the order of 10^-28 after 3000 iterations, which is significantly smaller than other k. Hence, we are able to achieve the desired result and the difference between the new calculated B and the original B matrix are insignificant. \n",
    "\n",
    "\n",
    "5. Thus, we can clearly see that we were able to find the original k when we try to apply gradient descent to matrices of different k size."
   ]
  },
  {
   "cell_type": "markdown",
   "id": "159a390d",
   "metadata": {},
   "source": [
    "### 4. What happens if you try to take B as the identity matrix? What does the solution A represent (for any k that works)?"
   ]
  },
  {
   "cell_type": "markdown",
   "id": "c36faa39",
   "metadata": {},
   "source": [
    "### Taking B to be an Identity Matrix"
   ]
  },
  {
   "cell_type": "code",
   "execution_count": 98,
   "id": "63e83155",
   "metadata": {},
   "outputs": [
    {
     "name": "stdout",
     "output_type": "stream",
     "text": [
      "B_Identity - \n",
      "\n",
      " [[1. 0. 0. 0. 0. 0. 0. 0. 0. 0.]\n",
      " [0. 1. 0. 0. 0. 0. 0. 0. 0. 0.]\n",
      " [0. 0. 1. 0. 0. 0. 0. 0. 0. 0.]\n",
      " [0. 0. 0. 1. 0. 0. 0. 0. 0. 0.]\n",
      " [0. 0. 0. 0. 1. 0. 0. 0. 0. 0.]\n",
      " [0. 0. 0. 0. 0. 1. 0. 0. 0. 0.]\n",
      " [0. 0. 0. 0. 0. 0. 1. 0. 0. 0.]\n",
      " [0. 0. 0. 0. 0. 0. 0. 1. 0. 0.]\n",
      " [0. 0. 0. 0. 0. 0. 0. 0. 1. 0.]\n",
      " [0. 0. 0. 0. 0. 0. 0. 0. 0. 1.]]\n",
      "Gradient Descent Successful\n"
     ]
    },
    {
     "data": {
      "image/png": "[encoded data removed]",
      "text/plain": [
       "<Figure size 432x288 with 1 Axes>"
      ]
     },
     "metadata": {
      "needs_background": "light"
     },
     "output_type": "display_data"
    }
   ],
   "source": [
    "B_Identity = np.identity(10)\n",
    "print('B_Identity - \\n\\n', B_Identity)\n",
    "\n",
    "A8_Identity = np.random.normal(0,1, size = (10,10))\n",
    "A8_New = Gradient_Descent(A8_Identity, B_Identity, 0.003)"
   ]
  },
  {
   "cell_type": "code",
   "execution_count": 99,
   "id": "3320262b",
   "metadata": {},
   "outputs": [
    {
     "name": "stdout",
     "output_type": "stream",
     "text": [
      "New Calculated A - \n",
      "\n",
      " [[-2.02405217e-01 -2.69830236e-01  5.59323836e-01  2.83630283e-02\n",
      "   7.81225819e-02  2.93408440e-02  1.79421195e-01  3.39239124e-01\n",
      "   2.46981597e-01  5.97776778e-01]\n",
      " [ 2.39391987e-01 -3.37713511e-01 -1.73266737e-01 -1.37998451e-01\n",
      "   4.56203477e-01  4.47783874e-01 -2.69052553e-01 -4.41923897e-01\n",
      "   1.07426241e-01  3.02849323e-01]\n",
      " [ 1.68181075e-01 -5.04207356e-01  2.54210017e-01 -1.03544335e-01\n",
      "   4.81123936e-02 -3.54517837e-01  4.12557434e-01 -3.50917767e-01\n",
      "  -4.51359473e-01 -1.30674855e-01]\n",
      " [-8.83769152e-02 -2.54328309e-01 -2.91080134e-01  3.62119436e-02\n",
      "   1.31855953e-01 -7.57943974e-01 -3.95316484e-01  2.05663010e-02\n",
      "   2.70085353e-01  1.41274306e-01]\n",
      " [-5.62142109e-01  6.40928168e-02  4.35301867e-01 -1.90575929e-01\n",
      "   3.85937987e-01  1.31877023e-02 -3.11317541e-01 -1.56855200e-01\n",
      "   2.08122304e-06 -4.28295750e-01]\n",
      " [ 8.41021089e-02 -7.53410437e-02  3.00083002e-02 -3.84199697e-01\n",
      "  -2.15135465e-01 -9.69211335e-03  3.24991211e-01 -2.20560212e-01\n",
      "   7.51863924e-01 -2.69811041e-01]\n",
      " [ 2.91433143e-01  5.94226769e-01  3.63389634e-01  2.28573076e-01\n",
      "   1.06606204e-01 -2.67770042e-01 -9.29915484e-03 -4.73507998e-01\n",
      "   1.08264971e-01  2.42033699e-01]\n",
      " [-1.33022581e-01  3.29949316e-01 -3.25843987e-01 -3.70695114e-01\n",
      "   5.67225141e-01 -1.35660201e-01  4.84609997e-01  1.59585454e-01\n",
      "  -7.53164138e-02  1.53994453e-01]\n",
      " [ 5.65490196e-01 -7.62415533e-02  1.89045449e-01  2.20586916e-01\n",
      "   4.50132257e-01 -1.73264143e-02 -2.36027159e-02  4.47131947e-01\n",
      "   1.60268669e-01 -4.01150755e-01]\n",
      " [-3.46617787e-01 -1.29090437e-01 -2.08404371e-01  7.38831194e-01\n",
      "   1.87389339e-01  8.82848181e-02  3.61817206e-01 -2.07844062e-01\n",
      "   2.05934334e-01 -1.20245936e-01]]\n",
      "\n",
      "\n",
      "New Calculated B - \n",
      "\n",
      " [[ 1.00000000e+00  1.03389519e-15  1.15185639e-15 -3.88578059e-16\n",
      "  -9.02056208e-16 -4.71844785e-16 -1.24900090e-15 -4.57966998e-16\n",
      "  -5.55111512e-17  8.60422844e-16]\n",
      " [ 1.03389519e-15  1.00000000e+00  4.78783679e-16  8.04911693e-16\n",
      "   7.38992201e-16  3.74700271e-16  3.88578059e-16 -2.02615702e-15\n",
      "  -8.04911693e-16 -3.05311332e-16]\n",
      " [ 1.15185639e-15  4.78783679e-16  1.00000000e+00  7.21644966e-16\n",
      "  -2.49800181e-16 -4.57966998e-16 -2.15105711e-16 -1.25593980e-15\n",
      "  -3.33066907e-16 -1.41553436e-15]\n",
      " [-3.88578059e-16  8.04911693e-16  7.21644966e-16  1.00000000e+00\n",
      "  -1.11022302e-15 -3.46944695e-17 -4.64905892e-16  3.88578059e-16\n",
      "   7.49400542e-16 -2.63677968e-16]\n",
      " [-9.02056208e-16  7.38992201e-16 -2.49800181e-16 -1.11022302e-15\n",
      "   1.00000000e+00 -4.28476699e-16  8.04911693e-16  3.88578059e-16\n",
      "   3.19189120e-16  2.22044605e-16]\n",
      " [-4.71844785e-16  3.74700271e-16 -4.57966998e-16 -3.46944695e-17\n",
      "  -4.28476699e-16  1.00000000e+00 -1.11022302e-15  8.32667268e-16\n",
      "   8.60422844e-16  3.04443970e-16]\n",
      " [-1.24900090e-15  3.88578059e-16 -2.15105711e-16 -4.64905892e-16\n",
      "   8.04911693e-16 -1.11022302e-15  1.00000000e+00 -5.55111512e-17\n",
      "   9.99200722e-16 -5.96744876e-16]\n",
      " [-4.57966998e-16 -2.02615702e-15 -1.25593980e-15  3.88578059e-16\n",
      "   3.88578059e-16  8.32667268e-16 -5.55111512e-17  1.00000000e+00\n",
      "  -1.16573418e-15 -1.16573418e-15]\n",
      " [-5.55111512e-17 -8.04911693e-16 -3.33066907e-16  7.49400542e-16\n",
      "   3.19189120e-16  8.60422844e-16  9.99200722e-16 -1.16573418e-15\n",
      "   1.00000000e+00 -7.07767178e-16]\n",
      " [ 8.60422844e-16 -3.05311332e-16 -1.41553436e-15 -2.63677968e-16\n",
      "   2.22044605e-16  3.04443970e-16 -5.96744876e-16 -1.16573418e-15\n",
      "  -7.07767178e-16  1.00000000e+00]]\n",
      "\n",
      "\n",
      "Difference between New B and Original B - \n",
      "\n",
      " [[-3.33066907e-15  1.03389519e-15  1.15185639e-15 -3.88578059e-16\n",
      "  -9.02056208e-16 -4.71844785e-16 -1.24900090e-15 -4.57966998e-16\n",
      "  -5.55111512e-17  8.60422844e-16]\n",
      " [ 1.03389519e-15 -3.33066907e-16  4.78783679e-16  8.04911693e-16\n",
      "   7.38992201e-16  3.74700271e-16  3.88578059e-16 -2.02615702e-15\n",
      "  -8.04911693e-16 -3.05311332e-16]\n",
      " [ 1.15185639e-15  4.78783679e-16 -1.44328993e-15  7.21644966e-16\n",
      "  -2.49800181e-16 -4.57966998e-16 -2.15105711e-16 -1.25593980e-15\n",
      "  -3.33066907e-16 -1.41553436e-15]\n",
      " [-3.88578059e-16  8.04911693e-16  7.21644966e-16 -3.99680289e-15\n",
      "  -1.11022302e-15 -3.46944695e-17 -4.64905892e-16  3.88578059e-16\n",
      "   7.49400542e-16 -2.63677968e-16]\n",
      " [-9.02056208e-16  7.38992201e-16 -2.49800181e-16 -1.11022302e-15\n",
      "   2.22044605e-16 -4.28476699e-16  8.04911693e-16  3.88578059e-16\n",
      "   3.19189120e-16  2.22044605e-16]\n",
      " [-4.71844785e-16  3.74700271e-16 -4.57966998e-16 -3.46944695e-17\n",
      "  -4.28476699e-16 -2.77555756e-15 -1.11022302e-15  8.32667268e-16\n",
      "   8.60422844e-16  3.04443970e-16]\n",
      " [-1.24900090e-15  3.88578059e-16 -2.15105711e-16 -4.64905892e-16\n",
      "   8.04911693e-16 -1.11022302e-15 -3.33066907e-16 -5.55111512e-17\n",
      "   9.99200722e-16 -5.96744876e-16]\n",
      " [-4.57966998e-16 -2.02615702e-15 -1.25593980e-15  3.88578059e-16\n",
      "   3.88578059e-16  8.32667268e-16 -5.55111512e-17 -5.55111512e-16\n",
      "  -1.16573418e-15 -1.16573418e-15]\n",
      " [-5.55111512e-17 -8.04911693e-16 -3.33066907e-16  7.49400542e-16\n",
      "   3.19189120e-16  8.60422844e-16  9.99200722e-16 -1.16573418e-15\n",
      "  -2.33146835e-15 -7.07767178e-16]\n",
      " [ 8.60422844e-16 -3.05311332e-16 -1.41553436e-15 -2.63677968e-16\n",
      "   2.22044605e-16  3.04443970e-16 -5.96744876e-16 -1.16573418e-15\n",
      "  -7.07767178e-16 -1.44328993e-15]]\n"
     ]
    }
   ],
   "source": [
    "print('New Calculated A - \\n\\n', A8_New)\n",
    "\n",
    "B8_New = np.matmul(np.transpose(A8_New), A8_New)\n",
    "print('\\n\\nNew Calculated B - \\n\\n', B8_New)\n",
    "\n",
    "print('\\n\\nDifference between New B and Original B - \\n\\n', np.subtract(B8_New, B_Identity))"
   ]
  },
  {
   "cell_type": "markdown",
   "id": "e0853918",
   "metadata": {},
   "source": [
    "# Analysing the Results\n",
    "\n",
    "Here the resultant A that we get in A8_New, the product with its transpose gives the identity matrix. So we can say that the columns of the new A are orthonormal to each other. Only the product of columns with themselves will give 1 in the diagonal elements. All the other products will give a 0. So, we can say that all the columns of A are othogonal to each other."
   ]
  },
  {
   "cell_type": "markdown",
   "id": "1333c007",
   "metadata": {},
   "source": [
    "### 5. What happens if you try to take B as the diagonal matrix of all 1s, except for the bottom right corner which is −1? What does the solution A represent (for any k that works)?\n"
   ]
  },
  {
   "cell_type": "markdown",
   "id": "ee1d213c",
   "metadata": {},
   "source": [
    "### Taking B as the diagonal matrix of all 1s, except for the bottom right corner which is −1"
   ]
  },
  {
   "cell_type": "code",
   "execution_count": 120,
   "id": "ba3c01d4",
   "metadata": {},
   "outputs": [
    {
     "name": "stdout",
     "output_type": "stream",
     "text": [
      "B_Diagonal\n",
      "\n",
      " [[ 1.  0.  0.  0.  0.  0.  0.  0.  0.  0.]\n",
      " [ 0.  1.  0.  0.  0.  0.  0.  0.  0.  0.]\n",
      " [ 0.  0.  1.  0.  0.  0.  0.  0.  0.  0.]\n",
      " [ 0.  0.  0.  1.  0.  0.  0.  0.  0.  0.]\n",
      " [ 0.  0.  0.  0.  1.  0.  0.  0.  0.  0.]\n",
      " [ 0.  0.  0.  0.  0.  1.  0.  0.  0.  0.]\n",
      " [ 0.  0.  0.  0.  0.  0.  1.  0.  0.  0.]\n",
      " [ 0.  0.  0.  0.  0.  0.  0.  1.  0.  0.]\n",
      " [ 0.  0.  0.  0.  0.  0.  0.  0.  1.  0.]\n",
      " [ 0.  0.  0.  0.  0.  0.  0.  0.  0. -1.]]\n",
      "Gradient Descent Successful\n"
     ]
    },
    {
     "data": {
      "image/png": "[encoded data removed]",
      "text/plain": [
       "<Figure size 432x288 with 1 Axes>"
      ]
     },
     "metadata": {
      "needs_background": "light"
     },
     "output_type": "display_data"
    }
   ],
   "source": [
    "B_Diagonal = np.identity(10)\n",
    "B_Diagonal[9,9] = -1\n",
    "print('B_Diagonal\\n\\n', B_Diagonal)\n",
    "\n",
    "A9_Diagonal = np.random.normal(0,1, size = (10,10))\n",
    "A9_Diagonal_New = Gradient_Descent(A9_Diagonal, B_Diagonal, 0.003)"
   ]
  },
  {
   "cell_type": "code",
   "execution_count": 121,
   "id": "c9e31ce6",
   "metadata": {},
   "outputs": [
    {
     "name": "stdout",
     "output_type": "stream",
     "text": [
      "New Calculated A - \n",
      "\n",
      " [[-2.40948001e-01 -4.59998813e-02  5.56179050e-01  3.66482793e-01\n",
      "  -3.06369973e-01  4.47949938e-01 -9.74307176e-02  4.91552405e-02\n",
      "   3.68017444e-01  3.06715891e-17]\n",
      " [-2.84950537e-01  2.81589278e-01 -1.38824437e-01 -2.19307101e-01\n",
      "  -6.90973201e-02  2.14496818e-01  2.35561596e-02  5.59084981e-01\n",
      "   2.59520893e-01 -7.68373691e-17]\n",
      " [-8.11017718e-02 -1.69881238e-01 -3.46338497e-01  1.17748511e-01\n",
      "   4.58138880e-01 -1.51811208e-01  4.03460784e-02  1.97579699e-01\n",
      "   6.50634614e-01  4.81428912e-17]\n",
      " [ 1.45625166e-01 -2.69630237e-02  1.82487207e-02  1.28730932e-01\n",
      "  -9.79652967e-02 -1.16456481e-01  3.27862460e-01 -5.87769451e-01\n",
      "   4.80788380e-01 -6.63110589e-17]\n",
      " [ 6.73812647e-01 -1.13952241e-01  7.95620419e-02 -4.72150600e-01\n",
      "  -2.48285927e-01  8.07141344e-02 -3.37349048e-01  1.11916955e-01\n",
      "   3.22865896e-01  9.30799332e-18]\n",
      " [-3.41933522e-01  1.59363932e-01  1.47737030e-02 -2.24167908e-02\n",
      "  -4.18505728e-01 -6.92982550e-01 -4.16633330e-01 -4.28823778e-02\n",
      "   1.52644466e-01  7.04967975e-18]\n",
      " [-2.99522430e-01 -2.55837093e-01  5.72228595e-01 -5.83452257e-01\n",
      "   3.34441951e-01 -1.75196051e-01  1.73444031e-01 -4.70777861e-02\n",
      "   4.28380221e-02 -2.24993017e-18]\n",
      " [ 1.96516190e-01  1.05453568e-01  1.09875896e-01  1.98764939e-02\n",
      "  -3.62124785e-01 -2.92629899e-01  7.25675570e-01  3.69602131e-01\n",
      "   1.20325835e-03  3.16439717e-17]\n",
      " [-3.51143188e-01 -1.01525755e-02 -4.22387948e-01 -4.57059140e-01\n",
      "  -3.58118718e-01  3.33998972e-01  1.91698154e-01 -3.30120705e-01\n",
      "   5.11100852e-02  4.18530275e-17]\n",
      " [-1.01917678e-01 -8.79742420e-01 -1.63190174e-01  1.18385065e-01\n",
      "  -2.71747725e-01 -4.58519366e-02 -2.64674747e-03  1.95783158e-01\n",
      "  -1.03622849e-01 -2.94263732e-17]]\n",
      "\n",
      "\n",
      "New Calculated B - \n",
      "\n",
      " [[ 1.00000000e+00 -6.66133815e-16  1.79023463e-15 -2.80331314e-15\n",
      "  -6.93889390e-16 -8.32667268e-17 -2.77555756e-16 -5.55111512e-17\n",
      "   1.11716192e-15 -1.54074396e-32]\n",
      " [-6.66133815e-16  1.00000000e+00  8.46545056e-16 -9.71445147e-16\n",
      "   4.57966998e-16 -4.64905892e-16  4.68375339e-17  2.08166817e-17\n",
      "   3.60822483e-16  1.54074396e-33]\n",
      " [ 1.79023463e-15  8.46545056e-16  1.00000000e+00  1.58206781e-15\n",
      "   7.77156117e-16 -1.16573418e-15 -4.30211422e-16 -4.71844785e-16\n",
      "  -9.78384040e-16  3.38963670e-32]\n",
      " [-2.80331314e-15 -9.71445147e-16  1.58206781e-15  1.00000000e+00\n",
      "   8.32667268e-16 -2.49800181e-16  1.28369537e-15 -4.71844785e-16\n",
      "  -1.06165077e-15 -1.07852077e-32]\n",
      " [-6.93889390e-16  4.57966998e-16  7.77156117e-16  8.32667268e-16\n",
      "   1.00000000e+00  9.29811783e-16  1.20736754e-15  8.32667268e-17\n",
      "   6.38378239e-16 -1.84889275e-32]\n",
      " [-8.32667268e-17 -4.64905892e-16 -1.16573418e-15 -2.49800181e-16\n",
      "   9.29811783e-16  1.00000000e+00  1.33226763e-15  4.16333634e-17\n",
      "   6.93889390e-17 -6.16297582e-33]\n",
      " [-2.77555756e-16  4.68375339e-17 -4.30211422e-16  1.28369537e-15\n",
      "   1.20736754e-15  1.33226763e-15  1.00000000e+00  4.71844785e-16\n",
      "  -6.26235175e-16  2.61926472e-32]\n",
      " [-5.55111512e-17  2.08166817e-17 -4.71844785e-16 -4.71844785e-16\n",
      "   8.32667268e-17  4.16333634e-17  4.71844785e-16  1.00000000e+00\n",
      "   1.57512892e-15 -1.84889275e-32]\n",
      " [ 1.11716192e-15  3.60822483e-16 -9.78384040e-16 -1.06165077e-15\n",
      "   6.38378239e-16  6.93889390e-17 -6.26235175e-16  1.57512892e-15\n",
      "   1.00000000e+00  9.24446373e-33]\n",
      " [-1.54074396e-32  1.54074396e-33  3.38963670e-32 -1.07852077e-32\n",
      "  -1.84889275e-32 -6.16297582e-33  2.61926472e-32 -1.84889275e-32\n",
      "   9.24446373e-33  1.73199494e-32]]\n",
      "\n",
      "\n",
      "Difference between New B and Original B - \n",
      "\n",
      " [[ 1.55431223e-15 -6.66133815e-16  1.79023463e-15 -2.80331314e-15\n",
      "  -6.93889390e-16 -8.32667268e-17 -2.77555756e-16 -5.55111512e-17\n",
      "   1.11716192e-15 -1.54074396e-32]\n",
      " [-6.66133815e-16  3.55271368e-15  8.46545056e-16 -9.71445147e-16\n",
      "   4.57966998e-16 -4.64905892e-16  4.68375339e-17  2.08166817e-17\n",
      "   3.60822483e-16  1.54074396e-33]\n",
      " [ 1.79023463e-15  8.46545056e-16 -3.55271368e-15  1.58206781e-15\n",
      "   7.77156117e-16 -1.16573418e-15 -4.30211422e-16 -4.71844785e-16\n",
      "  -9.78384040e-16  3.38963670e-32]\n",
      " [-2.80331314e-15 -9.71445147e-16  1.58206781e-15 -8.88178420e-16\n",
      "   8.32667268e-16 -2.49800181e-16  1.28369537e-15 -4.71844785e-16\n",
      "  -1.06165077e-15 -1.07852077e-32]\n",
      " [-6.93889390e-16  4.57966998e-16  7.77156117e-16  8.32667268e-16\n",
      "   6.66133815e-16  9.29811783e-16  1.20736754e-15  8.32667268e-17\n",
      "   6.38378239e-16 -1.84889275e-32]\n",
      " [-8.32667268e-17 -4.64905892e-16 -1.16573418e-15 -2.49800181e-16\n",
      "   9.29811783e-16  4.21884749e-15  1.33226763e-15  4.16333634e-17\n",
      "   6.93889390e-17 -6.16297582e-33]\n",
      " [-2.77555756e-16  4.68375339e-17 -4.30211422e-16  1.28369537e-15\n",
      "   1.20736754e-15  1.33226763e-15 -1.77635684e-15  4.71844785e-16\n",
      "  -6.26235175e-16  2.61926472e-32]\n",
      " [-5.55111512e-17  2.08166817e-17 -4.71844785e-16 -4.71844785e-16\n",
      "   8.32667268e-17  4.16333634e-17  4.71844785e-16 -3.33066907e-16\n",
      "   1.57512892e-15 -1.84889275e-32]\n",
      " [ 1.11716192e-15  3.60822483e-16 -9.78384040e-16 -1.06165077e-15\n",
      "   6.38378239e-16  6.93889390e-17 -6.26235175e-16  1.57512892e-15\n",
      "   1.55431223e-15  9.24446373e-33]\n",
      " [-1.54074396e-32  1.54074396e-33  3.38963670e-32 -1.07852077e-32\n",
      "  -1.84889275e-32 -6.16297582e-33  2.61926472e-32 -1.84889275e-32\n",
      "   9.24446373e-33  1.00000000e+00]]\n"
     ]
    }
   ],
   "source": [
    "print('New Calculated A - \\n\\n', A9_Diagonal_New)\n",
    "\n",
    "B_Diagonal_New = np.matmul(np.transpose(A9_Diagonal_New), A9_Diagonal_New)\n",
    "print('\\n\\nNew Calculated B - \\n\\n', B_Diagonal_New)\n",
    "\n",
    "print('\\n\\nDifference between New B and Original B - \\n\\n', np.subtract(B_Diagonal_New, B_Diagonal))"
   ]
  },
  {
   "cell_type": "markdown",
   "id": "a2b215af",
   "metadata": {},
   "source": [
    "## Analysing the Results\n",
    "\n",
    "Here when we select B as the diagonal matrix of all 1s, except for the bottom right corner which is −1, we are not able to reproduce the matrix from the A we get after Gradient Descent. The bottom corner value comes out to be really small close to 0, but not -1. "
   ]
  }
 ],
 "metadata": {
  "kernelspec": {
   "display_name": "Python 3 (ipykernel)",
   "language": "python",
   "name": "python3"
  },
  "language_info": {
   "codemirror_mode": {
    "name": "ipython",
    "version": 3
   },
   "file_extension": ".py",
   "mimetype": "text/x-python",
   "name": "python",
   "nbconvert_exporter": "python",
   "pygments_lexer": "ipython3",
   "version": "3.9.12"
  }
 },
 "nbformat": 4,
 "nbformat_minor": 5
}
